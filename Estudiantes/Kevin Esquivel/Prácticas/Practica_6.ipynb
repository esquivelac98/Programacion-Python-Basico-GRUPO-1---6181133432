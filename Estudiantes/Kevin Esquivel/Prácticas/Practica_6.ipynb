{
 "cells": [
  {
   "cell_type": "markdown",
   "id": "3127ae9d",
   "metadata": {},
   "source": [
    "# CLASE 07 Creación de Arrays\n",
    "## Prof. Andrés Mena Abarca\n",
    "### Estudiantes: "
   ]
  },
  {
   "cell_type": "markdown",
   "id": "4075b2ab",
   "metadata": {},
   "source": [
    "### Crear un array a partir de una lista"
   ]
  },
  {
   "cell_type": "code",
   "execution_count": 1,
   "id": "98fafc10",
   "metadata": {},
   "outputs": [],
   "source": [
    "import numpy as np\n",
    "\n"
   ]
  },
  {
   "cell_type": "markdown",
   "id": "0e8e40b3",
   "metadata": {},
   "source": [
    "### Crear un array de ceros de tamaño 5x5"
   ]
  },
  {
   "cell_type": "code",
   "execution_count": 2,
   "id": "043e0131",
   "metadata": {},
   "outputs": [
    {
     "name": "stdout",
     "output_type": "stream",
     "text": [
      "[[0. 0. 0. 0. 0.]\n",
      " [0. 0. 0. 0. 0.]\n",
      " [0. 0. 0. 0. 0.]\n",
      " [0. 0. 0. 0. 0.]\n",
      " [0. 0. 0. 0. 0.]]\n"
     ]
    }
   ],
   "source": [
    "#Código crear un array de ceros de tamaño 5x5\n",
    "\n",
    "array_ceros = np.zeros((5,5))\n",
    "\n",
    "print(array_ceros)"
   ]
  },
  {
   "cell_type": "markdown",
   "id": "a640f233",
   "metadata": {},
   "source": [
    "### Crear un array de unos de tamaño 3x3"
   ]
  },
  {
   "cell_type": "code",
   "execution_count": null,
   "id": "ac2b7096",
   "metadata": {},
   "outputs": [
    {
     "name": "stdout",
     "output_type": "stream",
     "text": [
      "[[1. 1. 1.]\n",
      " [1. 1. 1.]]\n"
     ]
    }
   ],
   "source": [
    "#Código crear un array de unos de tamaño 3x3\n",
    "\n",
    "array_unos = np.ones((2,3)) # Filas, Columnas\n",
    "\n",
    "print(array_unos)"
   ]
  },
  {
   "cell_type": "markdown",
   "id": "5ff1ca1e",
   "metadata": {},
   "source": [
    "### Crear un array con valores espaciados uniformemente de 0 a 9"
   ]
  },
  {
   "cell_type": "code",
   "execution_count": null,
   "id": "60cefb4b",
   "metadata": {},
   "outputs": [
    {
     "name": "stdout",
     "output_type": "stream",
     "text": [
      "[0. 1. 2. 3. 4. 5. 6. 7. 8. 9.]\n"
     ]
    }
   ],
   "source": [
    "#Código rear un array con valores espaciados uniformemente de 0 a 9\n",
    "\n",
    "array_linear = np.linspace(0, 9, 10)    # start: El valor inicial, stop: El valor final y num: (Opcional) Número de muestras a generar. (El valor predeterminado es 50.)\n",
    "\n",
    "print(array_linear)"
   ]
  },
  {
   "cell_type": "markdown",
   "id": "af014afb",
   "metadata": {},
   "source": [
    "### #Crear un array con 6 valores espaciados linealmente entre 0 y 1\n"
   ]
  },
  {
   "cell_type": "code",
   "execution_count": 12,
   "id": "5ba6f502",
   "metadata": {},
   "outputs": [
    {
     "name": "stdout",
     "output_type": "stream",
     "text": [
      "[0.  0.2 0.4 0.6 0.8 1. ]\n"
     ]
    }
   ],
   "source": [
    "#Código crear un array con 6 valores espaciados linealmente entre 0 y 1\n",
    "\n",
    "array_reto = np.linspace(0, 1, 6)\n",
    "\n",
    "print(array_reto)"
   ]
  },
  {
   "cell_type": "markdown",
   "id": "90ed91a1",
   "metadata": {},
   "source": [
    "# Operaciones Básicas"
   ]
  },
  {
   "cell_type": "markdown",
   "id": "b000074f",
   "metadata": {},
   "source": [
    "### Realizar una suma, resta, multiplicación y división entre dos arrays"
   ]
  },
  {
   "cell_type": "code",
   "execution_count": 19,
   "id": "ff348071",
   "metadata": {},
   "outputs": [
    {
     "name": "stdout",
     "output_type": "stream",
     "text": [
      "La suma es:  [[11  8 11]\n",
      " [ 9 18 33]]\n",
      "La resta es:  [[-1  0 -7]\n",
      " [ 3  6 15]]\n",
      "La multiplicacion es:  [[ 30  16  18]\n",
      " [ 18  72 216]]\n",
      "La division es:  [[0.83333333 1.         0.22222222]\n",
      " [2.         2.         2.66666667]]\n"
     ]
    }
   ],
   "source": [
    "array_salario = np.array([[5,4,2],[6,12,24]])\n",
    "array_propinas = np.array([[6,4,9],[3,6,9]])\n",
    "\n",
    "\n",
    "#Código realizar una suma, resta, multiplicación y división entre dos arrays (mientras tengan las mismas dimensiones)\n",
    "suma = array_salario + array_propinas\n",
    "resta = array_salario - array_propinas\n",
    "multiplicacion = array_salario * array_propinas\n",
    "division = array_salario / array_propinas\n",
    "\n",
    "\n",
    "# Salida\n",
    "\n",
    "print(\"La suma es: \",suma)\n",
    "print(\"La resta es: \",resta)\n",
    "print(\"La multiplicacion es: \",multiplicacion)\n",
    "print(\"La division es: \",division)"
   ]
  },
  {
   "cell_type": "code",
   "execution_count": null,
   "id": "a270ae97",
   "metadata": {},
   "outputs": [],
   "source": [
    "#Calcular el producto punto de dos arrays\n"
   ]
  },
  {
   "cell_type": "code",
   "execution_count": null,
   "id": "dddd8ba1",
   "metadata": {},
   "outputs": [],
   "source": [
    "#Transponer un array\n"
   ]
  },
  {
   "cell_type": "markdown",
   "id": "5e44ba57",
   "metadata": {},
   "source": [
    "# Operaciones Estadísticas"
   ]
  },
  {
   "cell_type": "code",
   "execution_count": 25,
   "id": "7f3e6efd",
   "metadata": {},
   "outputs": [
    {
     "name": "stdout",
     "output_type": "stream",
     "text": [
      "La media aritmética es: 3.0\n",
      "La sumatoria es: 15\n",
      "El valor mínimo es: 1\n",
      "El valor máximo es: 5\n"
     ]
    }
   ],
   "source": [
    "#Calcular la media, suma, valor mínimo y valor máximo de un array\n",
    "\n",
    "\n",
    "# Crear un array NumPy\n",
    "array_numeros = np.array([5, 2, 4, 1, 3])\n",
    "\n",
    "# Calcular la media\n",
    "media = np.mean(array_numeros)\n",
    "print(f'La media aritmética es: {media}')\n",
    "\n",
    "# Calcular la suma\n",
    "suma = np.sum(array_numeros)\n",
    "print(f'La sumatoria es: {suma}')\n",
    "\n",
    "# Calcular el valor mínimo\n",
    "minimo = np.min(array_numeros)\n",
    "print(f'El valor mínimo es: {minimo}')\n",
    "\n",
    "# Calcular el valor máximo\n",
    "maximo = np.max(array_numeros)\n",
    "print(f'El valor máximo es: {maximo}')\n"
   ]
  },
  {
   "cell_type": "code",
   "execution_count": 27,
   "id": "f6264d86",
   "metadata": {},
   "outputs": [
    {
     "name": "stdout",
     "output_type": "stream",
     "text": [
      "[[1 2 3]\n",
      " [4 5 6]]\n"
     ]
    }
   ],
   "source": [
    "#Cambiar la forma de un array \"reshape\"\n",
    "\n",
    "\n",
    "# Crear un array original\n",
    "array_original = np.array([1, 2, 3, 4, 5, 6])\n",
    "\n",
    "# Nueva forma deseada (2 filas y 3 columnas)\n",
    "array_reshapeado = array_original.reshape(2,3)\n",
    "print(array_reshapeado)"
   ]
  },
  {
   "cell_type": "markdown",
   "id": "195c5f6d",
   "metadata": {},
   "source": [
    "# Álgebra Lineal"
   ]
  },
  {
   "cell_type": "markdown",
   "id": "b920534e",
   "metadata": {},
   "source": [
    "### Calcular el determinante de una matriz 2x2"
   ]
  },
  {
   "cell_type": "code",
   "execution_count": null,
   "id": "d01ce9f8",
   "metadata": {},
   "outputs": [],
   "source": [
    "nuevo_array = np.array([[1,2],[2,5]])\n",
    "\n",
    "#Código para calcular el determinante de una matriz 2x2\n",
    "\n",
    "#print(determinante)"
   ]
  },
  {
   "cell_type": "markdown",
   "id": "b1325b2b",
   "metadata": {},
   "source": [
    "### Calcular la matriz inversa de una matriz 3x3"
   ]
  },
  {
   "cell_type": "code",
   "execution_count": null,
   "id": "9782d614",
   "metadata": {},
   "outputs": [],
   "source": [
    "# Definir la matriz 3x3\n",
    "\n",
    "\n",
    "# Calcular la matriz inversa\n",
    "\n",
    "\n",
    "# Imprimir la matriz inversa\n",
    "\n"
   ]
  },
  {
   "cell_type": "markdown",
   "id": "98f0cfc8",
   "metadata": {},
   "source": [
    "### Calcular los valores propios y vectores propios de una matriz 4x4"
   ]
  },
  {
   "cell_type": "code",
   "execution_count": null,
   "id": "07211323",
   "metadata": {},
   "outputs": [],
   "source": [
    "\n",
    "# Definir la matriz 4x4\n",
    "matriz_4x4 = np.array([[1, 2, 3, 4], [5, 6, 7, 8], [9, 10, 11, 12], [13, 14, 15, 16]])\n",
    "\n",
    "# Calcular valores propios y vectores propios\n",
    "\n",
    "\n",
    "# Separar valores propios y vectores propios\n",
    " # Parte real de los valores propios complejos\n",
    "  # Parte real de los vectores propios complejos\n",
    "\n",
    "# Imprimir resultados\n",
    "'''\n",
    "print(\"Valores propios:\", autovalores)\n",
    "print(\"Vectores propios:\")\n",
    "for i in range(len(autovectores)):\n",
    "    print(f\"Vector propio {i+1}:\", autovectores[i])\n",
    "'''"
   ]
  },
  {
   "cell_type": "markdown",
   "id": "efd4320a",
   "metadata": {},
   "source": [
    "# Funciones Universales"
   ]
  },
  {
   "cell_type": "code",
   "execution_count": null,
   "id": "b6104243",
   "metadata": {},
   "outputs": [],
   "source": [
    "# Crear un array con ángulos\n",
    "array_angulos = np.array([0, np.pi/2, np.pi])\n",
    "\n",
    "# Calcular el seno de los ángulos\n",
    "\n",
    "\n",
    "# Calcular el coseno de los ángulos\n",
    "\n",
    "\n",
    "# Calcular la exponencial de los ángulos\n",
    "\n",
    "\n",
    "# Calcular el logaritmo natural de los ángulos\n",
    "\n",
    "\n"
   ]
  },
  {
   "cell_type": "code",
   "execution_count": null,
   "id": "eadbf298",
   "metadata": {},
   "outputs": [],
   "source": [
    "#Realizar indexación y slicing en un array 2D\n",
    "array_2d = np.array([[1, 2, 3], [4, 5, 6], [7, 8, 9]])\n",
    "\n",
    "\n",
    "# Obtener la primera fila del array\n",
    "\n",
    "\n",
    "# Obtener la última columna del array\n",
    "  # [3, 6, 9]\n",
    "\n",
    "# Obtener una submatriz que contiene la segunda fila y las dos primeras columnas\n",
    "  # [4, 5]\n",
    "\n",
    "# Imprimir los subconjuntos de datos extraídos\n"
   ]
  },
  {
   "cell_type": "markdown",
   "id": "38fb3e51",
   "metadata": {},
   "source": [
    "# Generación de Números Aleatorios"
   ]
  },
  {
   "cell_type": "code",
   "execution_count": null,
   "id": "4c9439b1",
   "metadata": {},
   "outputs": [],
   "source": [
    "#Generar un array de 10 números enteros aleatorios entre 1 y 100\n"
   ]
  },
  {
   "cell_type": "code",
   "execution_count": null,
   "id": "7b67e54f",
   "metadata": {},
   "outputs": [],
   "source": [
    "#Generar una matriz 2x3 con números aleatorios uniformemente distribuidos entre 0 y 1\n"
   ]
  },
  {
   "cell_type": "code",
   "execution_count": null,
   "id": "bc4519a1",
   "metadata": {},
   "outputs": [],
   "source": [
    "#Generar un array de 5 números aleatorios con distribución normal (media 0, desviación estándar 1)\n",
    "\n"
   ]
  },
  {
   "cell_type": "markdown",
   "id": "5028b4c2",
   "metadata": {},
   "source": [
    "# Caso #1 | Ejercicios reales o prácticos"
   ]
  },
  {
   "cell_type": "code",
   "execution_count": 34,
   "id": "06dc1846",
   "metadata": {},
   "outputs": [
    {
     "name": "stdout",
     "output_type": "stream",
     "text": [
      "La similitud entre las preferencias de Kevin y la película Avatar es de un: 89%\n",
      "La similitud entre las preferencias de Kevin y la película Brave heart es de un: 79%\n",
      "Basado en sus preferencias, le recomendamos la película Avatar.\n"
     ]
    }
   ],
   "source": [
    "# Preferencias de peliculas [Accion, Comedia, Drama]\n",
    "\n",
    "kevin = np.array([7, 9, 2])\n",
    "\n",
    "# Calcular la similitud de cada pelicula con los gustos de Kevin\n",
    "pelicula_avatar = np.array([10, 1, 5])\n",
    "pelicula_braveheart = np.array([8, 1, 7])\n",
    "\n",
    "similitud_pelicula1 = np.dot(kevin,pelicula_avatar)\n",
    "similitud_pelicula2 = np.dot(kevin,pelicula_braveheart)\n",
    "\n",
    "print(f'La similitud entre las preferencias de Kevin y la película Avatar es de un: {similitud_pelicula1}%')\n",
    "print(f'La similitud entre las preferencias de Kevin y la película Brave heart es de un: {similitud_pelicula2}%')\n",
    "\n",
    "if similitud_pelicula1 > similitud_pelicula2:\n",
    "    print('Basado en sus preferencias, le recomendamos la película Avatar.')\n",
    "else:\n",
    "    print('Basado en sus preferencias, le la película Brave heart.')"
   ]
  },
  {
   "cell_type": "markdown",
   "id": "83fe9d93",
   "metadata": {},
   "source": [
    "# Caso #2 | Estudio relación y corelación"
   ]
  },
  {
   "cell_type": "code",
   "execution_count": 38,
   "id": "1c6bedcb",
   "metadata": {},
   "outputs": [
    {
     "name": "stdout",
     "output_type": "stream",
     "text": [
      "Coeficiente de correlación: 0.32\n"
     ]
    }
   ],
   "source": [
    "import numpy as np\n",
    "#Datos Tipo Cambio Dolar Ultimos 10 meses | IPC , metrica mensual\n",
    "\n",
    "\n",
    "tipo_cambio = np.array([506.96,505.00,504.27,505.52,506.23,506.23,506.23,506.58,506.87,507.25])\n",
    "ipc = np.array([109.46,109.55,109.71,109.57,109.70,109.33,108.85, 109.36,110.39,110.79])\n",
    "\n",
    "\n",
    "#Calcular coeficiente de correlación\n",
    "correlacion = np.corrcoef(tipo_cambio,ipc)[0,1]\n",
    "\n",
    "\n",
    "print(f'Coeficiente de correlación: {correlacion:.2f}')"
   ]
  },
  {
   "cell_type": "markdown",
   "id": "9b02b36c",
   "metadata": {},
   "source": [
    "## Caso #3 | Estudio de horas comparado con notas"
   ]
  },
  {
   "cell_type": "code",
   "execution_count": 55,
   "id": "1cd639a6",
   "metadata": {},
   "outputs": [
    {
     "name": "stdout",
     "output_type": "stream",
     "text": [
      "[5 5 3 4 5 3 3 3 4]\n",
      "3.89\n",
      "92.78\n",
      "7.22\n",
      "77.22\n"
     ]
    }
   ],
   "source": [
    "# Datos: Horas de estudio y Notas obtenidas\n",
    "\n",
    "horas_estudio = np.array([1, 2, 3, 4, 5, 6, 7, 8, 9, 10])\n",
    "notas_obtenidas = np.array([50, 55, 60, 63, 67, 72, 75, 78, 81, 85])\n",
    "\n",
    "# Cálculo del crecimiento del promedio del puntuaje por hora de estudio\n",
    "diferencias_notas = np.diff(notas_obtenidas) # Diferencias entre notas obtenidas, ejemplo 50-55 = 5 (primer número)\n",
    "print(diferencias_notas)\n",
    "\n",
    "promedio_diferencias = np.mean(diferencias_notas)\n",
    "print(round(promedio_diferencias,2))\n",
    "\n",
    "# Estimación del puntaje si estudio 12 horas\n",
    "\n",
    "horas_estimadas = 12\n",
    "##nota_estimada = (horas_estimadas - max(horas_estudio))   # Otro método\n",
    "nota_estimada = round((((horas_estimadas - horas_estudio[-1]) * promedio_diferencias) + max(notas_obtenidas)), 2)\n",
    "#** Paso 1: restar las horas estimadas y el valor máximo de horas de estudio\n",
    "#** Paso 2: multiplicar el cálculo anterior por el promedio de las diferencias (variación entre notas)\n",
    "#** Paso 3: sumar el cálculo anterior con el valor máximo de notas\n",
    "\n",
    "nota_estimada_minima = round((((min(horas_estudio) - horas_estimadas) * promedio_diferencias) + min(notas_obtenidas)), 2)\n",
    "nota_estimada_maxima = round((((max(horas_estudio) - horas_estimadas) * promedio_diferencias) + max(notas_obtenidas)), 2)\n",
    "\n",
    "print(nota_estimada)\n",
    "print(nota_estimada_minima)\n",
    "print(nota_estimada_maxima)"
   ]
  }
 ],
 "metadata": {
  "kernelspec": {
   "display_name": "Python 3",
   "language": "python",
   "name": "python3"
  },
  "language_info": {
   "codemirror_mode": {
    "name": "ipython",
    "version": 3
   },
   "file_extension": ".py",
   "mimetype": "text/x-python",
   "name": "python",
   "nbconvert_exporter": "python",
   "pygments_lexer": "ipython3",
   "version": "3.13.1"
  }
 },
 "nbformat": 4,
 "nbformat_minor": 5
}
