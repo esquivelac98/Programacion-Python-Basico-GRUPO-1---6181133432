{
 "cells": [
  {
   "cell_type": "code",
   "execution_count": 8,
   "metadata": {
    "colab": {
     "base_uri": "https://localhost:8080/"
    },
    "executionInfo": {
     "elapsed": 10485,
     "status": "ok",
     "timestamp": 1712064323417,
     "user": {
      "displayName": "Andrés Mena Abarca",
      "userId": "07418092259593836578"
     },
     "user_tz": 360
    },
    "id": "n3rOsUESDeTs",
    "outputId": "1cd40ed7-f1d2-4b89-bca5-696418df0021"
   },
   "outputs": [
    {
     "name": "stdout",
     "output_type": "stream",
     "text": [
      "¡Bienvenido a nuestro sistema de cálculo de áreas de triángulos!\n",
      "\n",
      "Los datos ingresados para realizar el cálculo son los siguientes:\n",
      "Base: 12 metros\n",
      "Altura: 15 metros\n",
      "\n",
      "El área del triángulo es de 90.0 metros\n"
     ]
    }
   ],
   "source": [
    "# Ejericio 1\n",
    "# Dado los valores ingresados por el usuario (base, altura) calcular y mostrar en pantalla el área de un triángulo.\n",
    "\n",
    "print('¡Bienvenido a nuestro sistema de cálculo de áreas de triángulos!')\n",
    "\n",
    "base = int(input(\"Ingrese el valor (en metros) de la base del triángulo: \"))\n",
    "altura = int(input(\"Ingrese el valor (en metros) de la altura del triángulo: \"))\n",
    "\n",
    "area = ((base * altura) / 2)\n",
    "\n",
    "print(f'\\nLos datos ingresados para realizar el cálculo son los siguientes:\\nBase: {base} metros\\nAltura: {altura} metros')\n",
    "print(f'\\nEl área del triángulo es de {area} metros')"
   ]
  },
  {
   "cell_type": "code",
   "execution_count": 11,
   "metadata": {
    "id": "By8jW6m9EHif",
    "outputId": "f40dd5ab-578c-4153-c3e9-0cde8eadad97"
   },
   "outputs": [
    {
     "name": "stdout",
     "output_type": "stream",
     "text": [
      "¡Bienvenido a nuestro sistema de conversión de montos en dólares a colones!\n",
      "\n",
      "Actualmente posee 500 dólares, lo que equivalen a 256000 colones, según el tipo de cambio actual (512).\n"
     ]
    }
   ],
   "source": [
    "# Ejericio 2\n",
    "# Convertir la cantidad de dólares ingresados por un usuario a colones y mostrar el resultado en pantalla.\n",
    "\n",
    "print('¡Bienvenido a nuestro sistema de conversión de montos en dólares a colones!')\n",
    "\n",
    "tipo_cambio = 512\n",
    "\n",
    "cantidad_dolares = float(input(\"Por favor, ingrese la cantidad de dólares que desea convertir a colones: \"))\n",
    "\n",
    "conversion_colones = cantidad_dolares * tipo_cambio\n",
    "\n",
    "print(f'\\nActualmente posee {cantidad_dolares} dólares, lo que equivalen a {conversion_colones} colones, según el tipo de cambio actual ({tipo_cambio}).')"
   ]
  },
  {
   "cell_type": "code",
   "execution_count": 22,
   "metadata": {},
   "outputs": [
    {
     "name": "stdout",
     "output_type": "stream",
     "text": [
      "¡Bienvenido a nuestro sistema de cálculo de segundos en lustros!\n",
      "\n",
      "Un lustro está compuesto por 157680000 segundos.\n"
     ]
    }
   ],
   "source": [
    "# Ejericio 4\n",
    "# Mostrar en pantalla la cantidad de segundos que tiene un lustro.\n",
    "\n",
    "print('¡Bienvenido a nuestro sistema de cálculo de segundos en lustros!')\n",
    "\n",
    "segundos_minuto = 60\n",
    "minutos_hora = 60\n",
    "horas_dia = 24\n",
    "dias_anio = 365\n",
    "lustro_anio = 5\n",
    "segundos_dia = ((minutos_hora * horas_dia) * segundos_minuto)\n",
    "segundos_anio = segundos_dia * dias_anio\n",
    "segundos_lustro = segundos_anio * lustro_anio\n",
    "\n",
    "\n",
    "print(f'\\nUn lustro está compuesto por {segundos_lustro} segundos.')"
   ]
  },
  {
   "cell_type": "code",
   "execution_count": 28,
   "metadata": {},
   "outputs": [
    {
     "name": "stdout",
     "output_type": "stream",
     "text": [
      "¡Bienvenido a nuestro sistema de comparativo de edades!\n",
      "\n",
      "El resultado de la comparativa de la edades 10 y 25 es: False.\n"
     ]
    }
   ],
   "source": [
    "# Ejericio 8\n",
    "# Mostrar en pantalla True o False si la edad ingresada por dos usuarios es la misma.\n",
    "\n",
    "print('¡Bienvenido a nuestro sistema de comparativo de edades!')\n",
    "\n",
    "edad_usuario1 = int(input(\"Por favor ingrese la edad del primer usuario: \"))\n",
    "edad_usuario2 = int(input(\"Por favor ingrese la edad del segundo usuario: \"))\n",
    "\n",
    "print(f'\\nEl resultado de la comparativa de la edades {edad_usuario1} y {edad_usuario2} es: {edad_usuario1 == edad_usuario2}.')"
   ]
  },
  {
   "cell_type": "code",
   "execution_count": 33,
   "metadata": {},
   "outputs": [
    {
     "name": "stdout",
     "output_type": "stream",
     "text": [
      "¡Bienvenido a nuestro sistema de cálculo de promedios de notas estudiantiles!\n",
      "\n",
      "Por favor ingrese las notas finales del estudiante de cada una de las materias solicitadas, basado en una métrica del 0 al 100.\n",
      "\n",
      "Notas ingresadas:\n",
      "Español: 85.0\n",
      "Matemáticas: 80.0\n",
      "Economía: 90.0\n",
      "Programación: 70.0\n",
      "Inglés: 92.0\n",
      "\n",
      "El promedio de la nota final de las 5 materias evaluadas es de: 83.4.\n"
     ]
    }
   ],
   "source": [
    "# Ejericio 10\n",
    "# Mostrar en pantalla el promedio de un alumno que ha cursado 5 materias (Español, Matemáticas, Economía, Programación, Ingles).\n",
    "\n",
    "print('¡Bienvenido a nuestro sistema de cálculo de promedios de notas estudiantiles!')\n",
    "print('\\nPor favor ingrese las notas finales del estudiante de cada una de las materias solicitadas, basado en una métrica del 0 al 100.')\n",
    "nota_espanol = float(input(\"Nota de Español: \"))\n",
    "nota_matematicas = float(input(\"Nota de Matemáticas: \"))\n",
    "nota_economia = float(input(\"Nota de Economía: \"))\n",
    "nota_programacion = float(input(\"Nota de Programación: \"))\n",
    "nota_ingles = float(input(\"Nota de Inglés: \"))\n",
    "\n",
    "promedio_notas = ((nota_espanol+nota_matematicas+nota_economia+nota_programacion+nota_ingles)/5)\n",
    "\n",
    "print(f'\\nNotas ingresadas:\\nEspañol: {nota_espanol}\\nMatemáticas: {nota_matematicas}\\nEconomía: {nota_economia}\\nProgramación: {nota_programacion}\\nInglés: {nota_ingles}')\n",
    "print(f'\\nEl promedio de la nota final de las 5 materias evaluadas es de: {promedio_notas}.')"
   ]
  }
 ],
 "metadata": {
  "colab": {
   "provenance": []
  },
  "kernelspec": {
   "display_name": "Python 3",
   "name": "python3"
  },
  "language_info": {
   "codemirror_mode": {
    "name": "ipython",
    "version": 3
   },
   "file_extension": ".py",
   "mimetype": "text/x-python",
   "name": "python",
   "nbconvert_exporter": "python",
   "pygments_lexer": "ipython3",
   "version": "3.13.1"
  }
 },
 "nbformat": 4,
 "nbformat_minor": 0
}
