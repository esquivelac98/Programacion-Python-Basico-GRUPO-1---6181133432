{
 "cells": [
  {
   "cell_type": "code",
   "execution_count": 39,
   "metadata": {
    "colab": {
     "base_uri": "https://localhost:8080/"
    },
    "executionInfo": {
     "elapsed": 10485,
     "status": "ok",
     "timestamp": 1712064323417,
     "user": {
      "displayName": "Andrés Mena Abarca",
      "userId": "07418092259593836578"
     },
     "user_tz": 360
    },
    "id": "n3rOsUESDeTs",
    "outputId": "1cd40ed7-f1d2-4b89-bca5-696418df0021"
   },
   "outputs": [
    {
     "name": "stdout",
     "output_type": "stream",
     "text": [
      "[1, 2, 3, 4, 5, 6, 7, 8, 9, 10]\n",
      "1 2 3 4 5 6 7 8 9 10\n"
     ]
    }
   ],
   "source": [
    "# Ejericio 1\n",
    "# Crea una lista llamada numeros que contenga los números del 1 al 10.\n",
    "\n",
    "numeros = [1, 2, 3, 4, 5, 6, 7, 8, 9, 10]\n",
    "\n",
    "print(numeros) # Método con comas y paréntesis\n",
    "print(*numeros) # Método sin comas y paréntesis\n",
    "\n",
    "# Método investigado de como hacer una lista de una manera más rápida sin digitar todos los números\n",
    "# numeros = list(range(1, 11)) # Se asigna 11, ya que es el último número, pero no se incluye\n",
    "\n",
    "# print(numeros)\n",
    "# print(*numeros)\n",
    "\n",
    "# Para borrar los valores de la lista creada\n",
    "# numeros.clear()"
   ]
  },
  {
   "cell_type": "code",
   "execution_count": 40,
   "metadata": {},
   "outputs": [
    {
     "name": "stdout",
     "output_type": "stream",
     "text": [
      "[1, 2, 3, 4, 5, 6, 7, 8, 9, 10, 11, 12, 13, 14, 15]\n"
     ]
    }
   ],
   "source": [
    "# Ejericio 2\n",
    "# Agrega los números del 11 al 15 a la lista utilizando el método extend().\n",
    "\n",
    "# Primer método para ingresar el rango solicitado a la lista creada\n",
    "numeros.extend(range(11, 16))\n",
    "# Sintáxis es la siguiente:\n",
    "# lista.extend(range(número de inicio, número de finalización)) # Se finaliza en 16, ya que es el último número, pero no se incluye\n",
    "\n",
    "# Segundo método para ingresar el rango solicitado a la lista creada\n",
    "# numeros.extend([11, 12, 13, 14, 15])\n",
    "\n",
    "print(numeros)\n",
    "\n",
    "# Para borrar los valores de la lista creada\n",
    "# numeros.clear()"
   ]
  },
  {
   "cell_type": "code",
   "execution_count": 41,
   "metadata": {},
   "outputs": [
    {
     "name": "stdout",
     "output_type": "stream",
     "text": [
      "[1, 2, 3, 4, 5, 6, 7, 8, 9, 10, 11, 12, 13, 14, 15, 16]\n"
     ]
    }
   ],
   "source": [
    "# Ejericio 3\n",
    "# Utiliza el método append() para agregar el número 16 al final de la lista.\n",
    "\n",
    "numeros.append(16)\n",
    "print(numeros)\n",
    "\n",
    "# Para borrar los valores de la lista creada\n",
    "#numeros.clear()"
   ]
  },
  {
   "cell_type": "code",
   "execution_count": 42,
   "metadata": {},
   "outputs": [
    {
     "name": "stdout",
     "output_type": "stream",
     "text": [
      "[0, 1, 2, 3, 4, 5, 6, 7, 8, 9, 10, 11, 12, 13, 14, 15, 16]\n"
     ]
    }
   ],
   "source": [
    "# Ejericio 4\n",
    "# Utiliza el método insert() para agregar el número 0 al principio de la lista.\n",
    "\n",
    "# Sintáxis de insert\n",
    "# insert(índice, valor)\n",
    "\n",
    "numeros.insert(0, 0)\n",
    "print(numeros)"
   ]
  },
  {
   "cell_type": "code",
   "execution_count": 43,
   "metadata": {},
   "outputs": [
    {
     "name": "stdout",
     "output_type": "stream",
     "text": [
      "[0, 1, 2, 3, 4, 6, 7, 8, 9, 10, 11, 12, 13, 14, 15, 16]\n"
     ]
    }
   ],
   "source": [
    "# Ejericio 5\n",
    "# Utiliza el método remove() para eliminar el número 5 de la lista.\n",
    "\n",
    "numeros.remove(5)\n",
    "print(numeros)"
   ]
  },
  {
   "cell_type": "code",
   "execution_count": 44,
   "metadata": {},
   "outputs": [
    {
     "name": "stdout",
     "output_type": "stream",
     "text": [
      "El último número eliminado fue: 16\n",
      "Lista completa después de eliminar el último número: [0, 1, 2, 3, 4, 6, 7, 8, 9, 10, 11, 12, 13, 14, 15]\n"
     ]
    }
   ],
   "source": [
    "# Ejericio 6\n",
    "# Utiliza el método pop() para eliminar el último número de la lista y almacenarlo en una variable llamada ultimo_numero.\n",
    "\n",
    "ultimo_numero = numeros.pop()\n",
    "\n",
    "# Impresión del último valor eliminado\n",
    "print(f'El último número eliminado fue: {ultimo_numero}')\n",
    "\n",
    "# Lista después de la eliminación\n",
    "print(f'Lista completa después de eliminar el último número: {numeros}')"
   ]
  },
  {
   "cell_type": "code",
   "execution_count": 45,
   "metadata": {},
   "outputs": [],
   "source": [
    "# Ejericio 7\n",
    "# Crea un archivo llamado numeros.txt en modo escritura utilizando la función open().\n",
    "\n",
    "archivo = open(\"numeros.txt\", \"w\")"
   ]
  },
  {
   "cell_type": "code",
   "execution_count": 47,
   "metadata": {},
   "outputs": [
    {
     "name": "stdout",
     "output_type": "stream",
     "text": [
      "[0, 1, 2, 3, 4, 6, 7, 8, 9, 10, 11, 12, 13, 14, 15]\n"
     ]
    }
   ],
   "source": [
    "# Ejericio 8\n",
    "# Utiliza un bucle for para escribir cada número de la lista en una línea separada en el archivo utilizando el método write().\n",
    "\n",
    "for numero in numeros:\n",
    "    archivo.write(str(numero) + \"\\n\") # Se castea a STR debido a que .write solo escribe cadenas de texto\n",
    "    \n",
    "# print(numeros)"
   ]
  },
  {
   "cell_type": "code",
   "execution_count": 48,
   "metadata": {},
   "outputs": [],
   "source": [
    "# Ejericio 9\n",
    "# Cierra el archivo utilizando el método close().\n",
    "\n",
    "archivo.close()"
   ]
  },
  {
   "cell_type": "code",
   "execution_count": 49,
   "metadata": {},
   "outputs": [],
   "source": [
    "# Ejericio 10\n",
    "# Abre el archivo en modo lectura utilizando la función open() y lee el contenido utilizando el método read().\n",
    "\n",
    "archivo = open(\"numeros.txt\", \"r\")\n",
    "\n",
    "contenido = archivo.read()"
   ]
  },
  {
   "cell_type": "code",
   "execution_count": 50,
   "metadata": {},
   "outputs": [
    {
     "name": "stdout",
     "output_type": "stream",
     "text": [
      "0\n",
      "1\n",
      "2\n",
      "3\n",
      "4\n",
      "6\n",
      "7\n",
      "8\n",
      "9\n",
      "10\n",
      "11\n",
      "12\n",
      "13\n",
      "14\n",
      "15\n",
      "0\n",
      "1\n",
      "2\n",
      "3\n",
      "4\n",
      "6\n",
      "7\n",
      "8\n",
      "9\n",
      "10\n",
      "11\n",
      "12\n",
      "13\n",
      "14\n",
      "15\n",
      "\n"
     ]
    }
   ],
   "source": [
    "# Ejericio 11\n",
    "# Imprime el contenido del archivo en la pantalla utilizando la función print().\n",
    "\n",
    "print(contenido)\n",
    "\n",
    "#archivo.close()"
   ]
  }
 ],
 "metadata": {
  "colab": {
   "provenance": []
  },
  "kernelspec": {
   "display_name": "Python 3",
   "name": "python3"
  },
  "language_info": {
   "codemirror_mode": {
    "name": "ipython",
    "version": 3
   },
   "file_extension": ".py",
   "mimetype": "text/x-python",
   "name": "python",
   "nbconvert_exporter": "python",
   "pygments_lexer": "ipython3",
   "version": "3.13.1"
  }
 },
 "nbformat": 4,
 "nbformat_minor": 0
}
