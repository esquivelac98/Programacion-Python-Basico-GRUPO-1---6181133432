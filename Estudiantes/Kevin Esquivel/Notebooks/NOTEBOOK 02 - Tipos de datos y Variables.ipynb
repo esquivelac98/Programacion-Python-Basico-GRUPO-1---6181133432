{
 "cells": [
  {
   "cell_type": "markdown",
   "metadata": {},
   "source": [
    "# NOTEBOOK 02 - Tipos de datos y estructuras de datos\n",
    "## Fundamentos de Programación: Tipos de Datos, Variables y Operaciones Básicas\n",
    "### Nombre del estudiante: Kevin Esquivel Acuña\n",
    "\n",
    "---\n",
    "\n",
    "## 1. Tipos de Datos en Python\n",
    "\n",
    "### Teoría\n",
    "Los tipos de datos en Python determinan el tipo de valor que se puede almacenar y manipular. Los más comunes son:\n",
    "\n",
    "- **Enteros (`int`)**: Números sin parte decimal.\n",
    "- **Flotantes (`float`)**: Números con parte decimal.\n",
    "- **Cadenas de texto (`str`)**: Secuencias de caracteres.\n",
    "- **Booleanos (`bool`)**: Valores lógicos que pueden ser `True` o `False`.\n",
    "\n",
    "#### Comparaciones:\n",
    "- Los enteros representan números sin decimales, mientras que los flotantes incluyen decimales.\n",
    "- Las cadenas de texto permiten almacenar y manipular texto.\n",
    "- Los booleanos permiten realizar comparaciones lógicas en el código.\n",
    "\n",
    "### Ejemplos\n",
    "```python\n",
    "# Ejemplos de tipos de datos\n",
    "numero_entero = 10  # Tipo entero\n",
    "numero_flotante = 10.5  # Tipo flotante\n",
    "cadena_texto = \"Hola, Python!\"  # Tipo cadena\n",
    "valor_logico = True  # Tipo booleano\n",
    "\n",
    "# Imprimir los tipos de cada variable\n",
    "print(type(numero_entero))\n",
    "print(type(numero_flotante))\n",
    "print(type(cadena_texto))\n",
    "print(type(valor_logico))\n",
    "```\n",
    "\n",
    "## Ejercicios \n",
    "\n",
    "1. Declara una variable de tipo entero y asigna el valor *25*. Luego, imprime su tipo."
   ]
  },
  {
   "cell_type": "code",
   "execution_count": 7,
   "metadata": {},
   "outputs": [
    {
     "name": "stdout",
     "output_type": "stream",
     "text": [
      "Mi edad es de 25 años.\n",
      "El tipo de dato es <class 'int'>\n"
     ]
    }
   ],
   "source": [
    "#Respuesta\n",
    "\n",
    "edad = 25\n",
    "\n",
    "print(\"Mi edad es de\",edad,\"años.\")\n",
    "print(\"El tipo de dato es\",type(edad))"
   ]
  },
  {
   "cell_type": "markdown",
   "metadata": {},
   "source": [
    "2. Declara una variable de tipo flotante con el valor *3.1416*. Imprime su tipo.\n"
   ]
  },
  {
   "cell_type": "code",
   "execution_count": 9,
   "metadata": {},
   "outputs": [
    {
     "name": "stdout",
     "output_type": "stream",
     "text": [
      "<class 'float'>\n",
      "El tipo de dato es <class 'float'>\n"
     ]
    }
   ],
   "source": [
    "#Respuesta\n",
    "\n",
    "PI = 3.1416\n",
    "\n",
    "print(type(PI))\n",
    "print(\"El tipo de dato es\",type(PI))"
   ]
  },
  {
   "cell_type": "markdown",
   "metadata": {},
   "source": [
    "3. Crea una variable es_estudiante que almacene un valor booleano indicando si eres estudiante."
   ]
  },
  {
   "cell_type": "code",
   "execution_count": 10,
   "metadata": {},
   "outputs": [
    {
     "name": "stdout",
     "output_type": "stream",
     "text": [
      "El tipo de dato es <class 'bool'>\n"
     ]
    }
   ],
   "source": [
    "#Respuesta\n",
    "\n",
    "visible = False\n",
    "\n",
    "print(\"El tipo de dato es\",type(visible))"
   ]
  },
  {
   "cell_type": "markdown",
   "metadata": {},
   "source": [
    "## 2. Variables en Python\n",
    "\n",
    "### Teoría\n",
    "Las variables son espacios de memoria donde almacenamos datos. En Python, no es necesario declarar el tipo de la variable, simplemente se asigna un valor con el símbolo `=`.\n",
    "\n",
    "#### Reglas para nombrar variables:\n",
    "- Deben comenzar con una letra o un guion bajo.\n",
    "- No pueden comenzar con un número.\n",
    "- Solo pueden contener letras, números y guiones bajos.\n",
    "- Son sensibles a mayúsculas y minúsculas (`nombre` y `Nombre` son diferentes).\n",
    "\n",
    "### Ejemplo"
   ]
  },
  {
   "cell_type": "code",
   "execution_count": null,
   "metadata": {},
   "outputs": [],
   "source": [
    "# Declaración de variables\n",
    "mi_nombre = \"Carlos\"\n",
    "edad = 20\n",
    "\n",
    "# Variables válidas\n",
    "nombre_completo = \"Ana Pérez\"\n",
    "_variable_secreta = 42 # convención para indicar que esa variable es protegida.\n",
    "\n",
    "# Variables inválidas (descomentar para ver los errores)\n",
    "# 2variable = 10  # Error: no puede comenzar con un número\n",
    "# nombre completo = \"Juan\"  # Error: no puede contener espacios"
   ]
  },
  {
   "cell_type": "markdown",
   "metadata": {},
   "source": [
    "## 3. Operaciones Básicas de Entrada y Salida\n",
    "\n",
    "### Teoría\n",
    "Las operaciones de entrada y salida son fundamentales para interactuar con el usuario. En Python, utilizamos la función `input()` para capturar datos del usuario y `print()` para mostrar información en pantalla.\n",
    "\n",
    "### Ejemplos"
   ]
  },
  {
   "cell_type": "code",
   "execution_count": null,
   "metadata": {},
   "outputs": [
    {
     "name": "stdout",
     "output_type": "stream",
     "text": [
      "¡Hola, mundo!\n",
      "Hola Yendry Chinchilla, bienvenido a Python\n",
      "Hola Yendry Chinchilla bienvenido a Python\n"
     ]
    }
   ],
   "source": [
    "# Operación de salida\n",
    "print(\"¡Hola, mundo!\")\n",
    "\n",
    "# Operación de entrada + Saalida con format\n",
    "nombre = input(\"Por favor ingrese su nombre completo: \")\n",
    "\n",
    "print(f'Hola {nombre}, bienvenido a Python.')\n",
    "print('Hola',nombre,'bienvenido a Python.')"
   ]
  },
  {
   "cell_type": "markdown",
   "metadata": {},
   "source": [
    "En otros lenguajes, como *Java*, el proceso es similar pero con algunas diferencias en la sintaxis:\n",
    "\n",
    "```Java\n",
    "// Ejemplo en Java\n",
    "import java.util.Scanner;\n",
    "\n",
    "public class EntradaSalida {\n",
    "    public static void main(String[] args) {\n",
    "        Scanner input = new Scanner(System.in);\n",
    "        System.out.print(\"¿Cómo te llamas? \");\n",
    "        String nombre = input.nextLine();\n",
    "        System.out.println(\"Hola, \" + nombre + \"!\");\n",
    "    }\n",
    "}\n",
    "\n",
    "```"
   ]
  },
  {
   "cell_type": "markdown",
   "metadata": {},
   "source": [
    "## 4. Operadores Básicos en Python\n",
    "\n",
    "### Teoría\n",
    "Los operadores en Python nos permiten realizar diversas operaciones con variables y datos. Los más comunes son:\n",
    "\n",
    "- **Operadores matemáticos**: `+`, `-`, `*`, `/`, `//` (división entera), `%` (módulo)\n",
    "- **Operadores de asignación**: `=`, `+=`, `-=`, `*=`, `/=`\n",
    "- **Operadores de comparación**: `==`, `!=`, `<`, `>`, `<=`, `>=`\n",
    "- **Operadores lógicos**: `and`, `or`, `not`\n",
    "\n",
    "### Tabla de Operadores Matemáticos\n",
    "\n",
    "| Operador | Descripción           | Ejemplo           |\n",
    "|----------|-----------------------|-------------------|\n",
    "| `+`      | Suma                  | `5 + 3 = 8`       |\n",
    "| `-`      | Resta                 | `5 - 2 = 3`       |\n",
    "| `*`      | Multiplicación         | `5 * 2 = 10`      |\n",
    "| `/`      | División              | `10 / 2 = 5.0`    |\n",
    "| `//`     | División entera        | `10 // 3 = 3`     |\n",
    "| `%`      | Módulo (resto)         | `10 % 3 = 1`      |\n",
    "\n",
    "### Ejemplos"
   ]
  },
  {
   "cell_type": "markdown",
   "metadata": {},
   "source": [
    "#### Problema 1: Operadores Matemáticos y Comparación en Python\n",
    "\n",
    "Tienes dos variables `a = 10` y `b = 5`. Realiza las siguientes operaciones matemáticas:"
   ]
  },
  {
   "cell_type": "code",
   "execution_count": 19,
   "metadata": {},
   "outputs": [
    {
     "name": "stdout",
     "output_type": "stream",
     "text": [
      "El resultado de la suma es 15\n",
      "El resultado de la resta es 5\n",
      "El resultado de la multiplicacion es 50\n",
      "El resultado de la division es 2.0\n"
     ]
    }
   ],
   "source": [
    "# Asignacón de variables\n",
    "a = 10\n",
    "b = 5\n",
    "\n",
    "# Suma y resta\n",
    "suma = a + b\n",
    "print(f'El resultado de la suma es {suma}')\n",
    "\n",
    "resta = a - b\n",
    "print(f'El resultado de la resta es {resta}')\n",
    "\n",
    "multiplicacion = a * b\n",
    "print(f'El resultado de la multiplicacion es {multiplicacion}')\n",
    "\n",
    "division = a / b\n",
    "print(f'El resultado de la division es {division}')"
   ]
  },
  {
   "cell_type": "markdown",
   "metadata": {},
   "source": [
    "#### Problema 2: Comparación de Números\n",
    "Usa los siguientes operadores de comparación para verificar la relación entre a y b. ¿Qué resultado esperas?"
   ]
  },
  {
   "cell_type": "code",
   "execution_count": 24,
   "metadata": {},
   "outputs": [
    {
     "name": "stdout",
     "output_type": "stream",
     "text": [
      "La respuesta es False\n",
      "La respuesta es False\n",
      "La respuesta es True\n",
      "La respuesta es False\n",
      "La respuesta es True\n",
      "La respuesta es True\n"
     ]
    }
   ],
   "source": [
    "# Operadores de comparación\n",
    "a = 10\n",
    "b = 20\n",
    "\n",
    "# ¿Es a igual a b?\n",
    "print(f'La respuesta es {a == b}')\n",
    "\n",
    "# ¿Es a mayor que b?\n",
    "print(f'La respuesta es {a > b}')\n",
    "\n",
    "# ¿Es a menor que b?\n",
    "print(f'La respuesta es {a < b}')\n",
    "\n",
    "# ¿Es a mayor o igual que b?\n",
    "print(f'La respuesta es {a >= b}')\n",
    "\n",
    "# ¿Es a menor o igual que b?\n",
    "print(f'La respuesta es {a <= b}')\n",
    "\n",
    "# ¿Es a diferente que b?\n",
    "print(f'La respuesta es {a != b}')"
   ]
  },
  {
   "cell_type": "markdown",
   "metadata": {},
   "source": [
    "### Problema 3: Operadores Lógicos\n",
    "Usa operadores lógicos para combinar condiciones. Resuelve el siguiente problema: ¿Es a mayor que 0 y b menor que 10? ¿Qué pasa si a = -10?"
   ]
  },
  {
   "cell_type": "code",
   "execution_count": 39,
   "metadata": {},
   "outputs": [
    {
     "name": "stdout",
     "output_type": "stream",
     "text": [
      "True\n",
      "False\n",
      "True\n",
      "True\n",
      "False\n",
      "False\n",
      "True\n",
      "True\n"
     ]
    }
   ],
   "source": [
    "# Operadores lógicos\n",
    "contrasena = True\n",
    "correo = True\n",
    "\n",
    "# ¿Ambas condiciones son verdaderas?\n",
    "print(contrasena == True and correo == True)\n",
    "print(contrasena == True and correo == False)\n",
    "\n",
    "# ¿Al menos una de las condiciones es verdadera?\n",
    "correo = False\n",
    "print(contrasena == True and correo == False)\n",
    "print(contrasena == False or correo == False)\n",
    "\n",
    "# ¿Es falso que a sea mayor que b?\n",
    "contrasena = False\n",
    "correo = False\n",
    "\n",
    "print(contrasena and correo)\n",
    "print(contrasena & correo)\n",
    "\n",
    "\n",
    "permiso_mami = True\n",
    "permiso_papa = False\n",
    "\n",
    "print(permiso_mami or permiso_papa) # Se cumple una de las condiciones.\n",
    "\n",
    "permiso_mami = False\n",
    "permiso_papa = False\n",
    "print(not(permiso_mami or permiso_papa)) # El resultado es True porque ambos son False y lo invierte.\n"
   ]
  },
  {
   "cell_type": "markdown",
   "metadata": {},
   "source": [
    "### Problema 4: Divisiones y Módulo\n",
    "Prueba las operaciones de división entera y módulo para ver cómo Python maneja los restos de las divisiones."
   ]
  },
  {
   "cell_type": "code",
   "execution_count": null,
   "metadata": {},
   "outputs": [],
   "source": [
    "# División entera y módulo\n"
   ]
  },
  {
   "cell_type": "markdown",
   "metadata": {},
   "source": [
    "### Ejercicio Final:\n",
    "\n",
    "Combina operadores matemáticos, de comparación y lógicos. Escribe un programa que pida al usuario dos números y realice las siguientes tareas:\n",
    "\n",
    "1. Verifique si el primer número es mayor que el segundo.\n",
    "2. Calcule la suma, resta, división y módulo de ambos.\n",
    "3. Determine si la suma de ambos números es mayor que 20 **y** si alguno de los dos es menor que 5."
   ]
  },
  {
   "cell_type": "code",
   "execution_count": 56,
   "metadata": {},
   "outputs": [
    {
     "name": "stdout",
     "output_type": "stream",
     "text": [
      "El primer número es 20 y el segundo número es 2.\n",
      "<class 'int'>\n",
      "<class 'int'>\n",
      "La respuesta es True.\n",
      "La suma de ambos números es 22.\n",
      "La resta de ambos números es 18.\n",
      "La división de ambos números es 10.0.\n",
      "La multiplicación de ambos números es 40.\n",
      "El módulo de ambos números es 0.\n",
      "True\n"
     ]
    }
   ],
   "source": [
    "#Respuesta\n",
    "\n",
    "primer_numero = int(input('Ingrese el primer número: '))\n",
    "segundo_numero = int(input('Ingrese el segundo número: '))\n",
    "\n",
    "print(f'El primer número es {primer_numero} y el segundo número es {segundo_numero}.')\n",
    "\n",
    "print(type(primer_numero))\n",
    "print(type(segundo_numero))\n",
    "\n",
    "# Ejercicio 1\n",
    "print(f'La respuesta es {primer_numero > segundo_numero}.')\n",
    "\n",
    "# Ejercicio 2\n",
    "suma = primer_numero + segundo_numero\n",
    "print(f'La suma de ambos números es {suma}.')\n",
    "\n",
    "resta = primer_numero - segundo_numero\n",
    "print(f'La resta de ambos números es {resta}.')\n",
    "\n",
    "division = primer_numero / segundo_numero\n",
    "print(f'La división de ambos números es {division}.')\n",
    "\n",
    "multiplicacion = primer_numero * segundo_numero\n",
    "print(f'La multiplicación de ambos números es {multiplicacion}.')\n",
    "\n",
    "modulo = primer_numero % segundo_numero\n",
    "print(f'El módulo de ambos números es {modulo}.')\n",
    "\n",
    "# Ejercicio 3\n",
    "print((suma > 20) and (primer_numero < 5 or segundo_numero < 5))"
   ]
  },
  {
   "cell_type": "markdown",
   "metadata": {},
   "source": [
    "# Estructuras de datos elementales\n",
    "\n",
    "# Listas\n",
    "\n",
    "Las listas son uno de los tipos de datos más importantes y versátiles en Python. Son colecciones ordenadas y mutables que pueden almacenar cualquier tipo de dato, desde números y cadenas de texto hasta objetos complejos.\n",
    "\n",
    "**Creación de listas:**\n",
    "\n",
    "Las listas se pueden crear de varias maneras:\n",
    "\n",
    "- **Usando corchetes (**[]**) y separando los elementos por comas:**"
   ]
  },
  {
   "cell_type": "code",
   "execution_count": 58,
   "metadata": {},
   "outputs": [
    {
     "name": "stdout",
     "output_type": "stream",
     "text": [
      "['Conejo', 'Perro', 'Gato']\n",
      "Conejo Perro Gato\n"
     ]
    }
   ],
   "source": [
    "#Creando mi primera lista\n",
    "\n",
    "lista = [\"Conejo\",\"Perro\",\"Gato\"]\n",
    "\n",
    "print(lista)\n",
    "print(*lista)"
   ]
  },
  {
   "cell_type": "code",
   "execution_count": 60,
   "metadata": {},
   "outputs": [
    {
     "name": "stdout",
     "output_type": "stream",
     "text": [
      "[1, 2, 3, 4, 5]\n",
      "3\n",
      "5\n"
     ]
    }
   ],
   "source": [
    "#TRABAJEMO CON LISTAS\n",
    "#          0 1 2 3 4\n",
    "miLista = [1,2,3,4,5]\n",
    "\n",
    "# Para acceder a sus elementos, se utiliza el [Índice] los índices comienzan en 0\n",
    "\n",
    "print(miLista)\n",
    "print(miLista[2]) # Para imprimir una posición en específico, inicia en 0.\n",
    "print(miLista[-1]) # Para imprimir el último valor de la lista."
   ]
  },
  {
   "cell_type": "code",
   "execution_count": 62,
   "metadata": {},
   "outputs": [
    {
     "name": "stdout",
     "output_type": "stream",
     "text": [
      "Kevin Gerald Manuel\n"
     ]
    }
   ],
   "source": [
    "#Usando la función print() y la función * para desempaquetar los elementos de la lista como argumentos\")\n",
    "\n",
    "lista = [\"Kevin\",\"Gerald\",\"Manuel\"]\n",
    "\n",
    "print(*lista)"
   ]
  },
  {
   "cell_type": "code",
   "execution_count": 69,
   "metadata": {},
   "outputs": [
    {
     "name": "stdout",
     "output_type": "stream",
     "text": [
      "Elemento número: 1\n",
      "Elemento número: 2\n",
      "Elemento número: 3\n",
      "Elemento número: 4\n",
      "Elemento número: 5\n"
     ]
    }
   ],
   "source": [
    "#Usando un bucle \"for\" para imprimir todos los elementos de la lista.\n",
    "\n",
    "for i in miLista:\n",
    "    print(\"Elemento número:\",i)"
   ]
  },
  {
   "cell_type": "code",
   "execution_count": 4,
   "metadata": {},
   "outputs": [
    {
     "name": "stdout",
     "output_type": "stream",
     "text": [
      "La lista contiene 10 números.\n",
      "La lista contiene 10 números.\n"
     ]
    }
   ],
   "source": [
    "# Imprimir la cantidad elementos\n",
    "\n",
    "lista_numeros = [1, 2, 3, 4, 5, 6, 7, 8, 9, 10]\n",
    "\n",
    "cantidad_numeros = len(lista_numeros)\n",
    "\n",
    "print(f'La lista contiene {cantidad_numeros} números.')\n",
    "print(f'La lista contiene {len(lista_numeros)} números.')"
   ]
  },
  {
   "cell_type": "markdown",
   "metadata": {},
   "source": [
    "## Métodos básicos y útiles en Listas \n",
    "\n",
    "### Agregar elementos a una lista en Python\n",
    "Existen dos métodos principales para agregar elementos a una lista en Python:\n",
    "\n",
    "1. append()\n",
    "2. insert()"
   ]
  },
  {
   "cell_type": "code",
   "execution_count": null,
   "metadata": {},
   "outputs": [
    {
     "name": "stdout",
     "output_type": "stream",
     "text": [
      "['Outlook', 'Hotmail', 'Gmail', 'Yahoo']\n"
     ]
    }
   ],
   "source": [
    "#append(): Este método agrega un elemento al final de la lista\n",
    "correos = [\"Outlook\",\"Hotmail\",\"Gmail\"]\n",
    "\n",
    "correos.append('Yahoo')\n",
    "\n",
    "print(correos)"
   ]
  },
  {
   "cell_type": "code",
   "execution_count": 8,
   "metadata": {},
   "outputs": [
    {
     "name": "stdout",
     "output_type": "stream",
     "text": [
      "['Prueba', 'Outlook', 'Hotmail', 'Gmail', 'Yahoo']\n"
     ]
    }
   ],
   "source": [
    "#insert(): Este método agrega un elemento en una posición específica\n",
    "\n",
    "correos.insert(0,'Prueba')\n",
    "\n",
    "print(correos)"
   ]
  },
  {
   "cell_type": "markdown",
   "metadata": {},
   "source": [
    "### Agregar múltiples elementos a una lista"
   ]
  },
  {
   "cell_type": "code",
   "execution_count": 2,
   "metadata": {},
   "outputs": [
    {
     "name": "stdout",
     "output_type": "stream",
     "text": [
      "['Word', 'Excel', 'Power Point', 'Access', 'Visio', 'Skype']\n",
      "['SQL', 'Python', 'Power BI', 'Word', 'Excel', 'Power Point', 'Access', 'Visio', 'Skype']\n"
     ]
    }
   ],
   "source": [
    "# extend() Agrega los elementos de una lista iterable al final de la lista original\n",
    "paquete = ['Word','Excel','Power Point']\n",
    "adicional = ['Access','Visio','Skype']\n",
    "\n",
    "paquete.extend(adicional)\n",
    "\n",
    "print(paquete)\n",
    "\n",
    "paquete_pro = ['SQL','Python','Power BI']\n",
    "\n",
    "paquete_final = paquete_pro + paquete\n",
    "\n",
    "print(paquete_final)"
   ]
  },
  {
   "cell_type": "code",
   "execution_count": 3,
   "metadata": {},
   "outputs": [
    {
     "name": "stdout",
     "output_type": "stream",
     "text": [
      "[1, 2, 3, 1, 2, 3]\n"
     ]
    }
   ],
   "source": [
    "#Repitir listas utilizando operador de multiplicación (*)\n",
    "Lista1 = [1,2,3]\n",
    "\n",
    "lista_duplicada = Lista1 * 2\n",
    "\n",
    "print(lista_duplicada)"
   ]
  },
  {
   "cell_type": "markdown",
   "metadata": {
    "vscode": {
     "languageId": "powershell"
    }
   },
   "source": [
    "## Métodos para eliminar elementos de una lista en Python"
   ]
  },
  {
   "cell_type": "code",
   "execution_count": 12,
   "metadata": {},
   "outputs": [
    {
     "name": "stdout",
     "output_type": "stream",
     "text": [
      "['Outlook', 'Gmail', 'Yahoo']\n"
     ]
    }
   ],
   "source": [
    "#remove(): Este método elimina el primer elemento de la lista que coincida\n",
    "\n",
    "#correos = [\"Outlook\",\"Hotmail\",\"Gmail\"]\n",
    "\n",
    "#correos.append('Yahoo')\n",
    "\n",
    "#print(correos)\n",
    "\n",
    "#correos.remove('Prueba') # Debe ser por coincidencia exacta\n",
    "#correos.remove(correos[1]) # Eliminar por posición específica\n",
    "\n",
    "print(correos)"
   ]
  },
  {
   "cell_type": "code",
   "execution_count": 15,
   "metadata": {},
   "outputs": [
    {
     "name": "stdout",
     "output_type": "stream",
     "text": [
      "['Proton Mail', 'Outlook', 'Yahoo']\n",
      "['Proton Mail', 'Outlook']\n",
      "El elemento eliminado es: Yahoo.\n"
     ]
    }
   ],
   "source": [
    "#pop(): Este método elimina y devuelve el elemento en una posición específica de la lista por medio del índice.\n",
    "\n",
    "#correos.insert(0, 'Proton Mail')\n",
    "print(correos)\n",
    "\n",
    "#eliminado = correos.pop(2)\n",
    "\n",
    "print(correos)\n",
    "#print(f'El elemento eliminado es: {eliminado}.')"
   ]
  },
  {
   "cell_type": "code",
   "execution_count": 17,
   "metadata": {},
   "outputs": [
    {
     "name": "stdout",
     "output_type": "stream",
     "text": [
      "['Proton Mail', 'Outlook']\n",
      "['Proton Mail']\n"
     ]
    }
   ],
   "source": [
    "#del Elimina elemento por índice\n",
    "\n",
    "print(correos)\n",
    "\n",
    "#del(correos[1])\n",
    "\n",
    "print(correos)"
   ]
  },
  {
   "cell_type": "code",
   "execution_count": 20,
   "metadata": {},
   "outputs": [
    {
     "name": "stdout",
     "output_type": "stream",
     "text": [
      "[]\n",
      "[]\n"
     ]
    }
   ],
   "source": [
    "#clear(): este métolo eliminar los elementos de una lista \n",
    "\n",
    "print(correos)\n",
    "\n",
    "correos.clear()\n",
    "\n",
    "print(correos)\n"
   ]
  },
  {
   "cell_type": "code",
   "execution_count": 22,
   "metadata": {},
   "outputs": [],
   "source": [
    "correos = [1,2]\n",
    "\n",
    "\n",
    "del correos # Eliminar de la memoria\n",
    "\n",
    "\n",
    "#correos = [1,2]\n",
    "\n",
    "\n",
    "#correos = None # Eliminar de la memoria"
   ]
  },
  {
   "cell_type": "markdown",
   "metadata": {},
   "source": [
    "# Tuplas\n",
    "\n",
    "Las **tuplas** son una de las estructuras de datos básicas en muchos lenguajes de programación, incluyendo Python. Son colecciones ordenadas y **inmutables** de elementos. Esto significa que una vez que se crea una tupla, no es posible modificar sus elementos (no se pueden añadir, eliminar, o cambiar valores).\n",
    "\n",
    "## Características de las Tuplas\n",
    "\n",
    "- **Ordenadas**: Los elementos en una tupla tienen un orden definido.\n",
    "- **Inmutables**: Una vez creada, la tupla no puede cambiar. Los elementos no pueden ser modificados, añadidos, o eliminados.\n",
    "- **Indexables**: Puedes acceder a los elementos de la tupla por su índice, siendo `0` el índice del primer elemento.\n",
    "- **Permiten duplicados**: Las tuplas pueden tener elementos duplicados.\n",
    "\n",
    "## Creación de Tuplas\n",
    "\n",
    "Para crear una tupla en Python, simplemente coloca los elementos dentro de paréntesis `()` y sepáralos con comas."
   ]
  },
  {
   "cell_type": "code",
   "execution_count": 23,
   "metadata": {},
   "outputs": [
    {
     "name": "stdout",
     "output_type": "stream",
     "text": [
      "B\n"
     ]
    }
   ],
   "source": [
    "#Acceder a elementos de una tupla:\n",
    "\n",
    "tupla = (1,2,3,'A','B','C')\n",
    "\n",
    "print(tupla[4])"
   ]
  },
  {
   "cell_type": "code",
   "execution_count": 24,
   "metadata": {},
   "outputs": [
    {
     "name": "stdout",
     "output_type": "stream",
     "text": [
      "1\n",
      "2\n",
      "3\n",
      "A\n",
      "B\n",
      "C\n"
     ]
    }
   ],
   "source": [
    "#Utilizar una tupla en un ciclo for:\n",
    "\n",
    "tupla = (1,2,3,'A','B','C')\n",
    "\n",
    "for elemento in tupla:\n",
    "    print(elemento)\n"
   ]
  },
  {
   "cell_type": "code",
   "execution_count": 28,
   "metadata": {},
   "outputs": [
    {
     "name": "stdout",
     "output_type": "stream",
     "text": [
      "Kevin\n",
      "Esquivel\n",
      "26\n"
     ]
    }
   ],
   "source": [
    "#Asignar valores de una tupla a variables:\n",
    "\n",
    "tupla_persona = ('Kevin','Esquivel', 26)\n",
    "\n",
    "nombre, apellido, edad = tupla_persona #Crear variables y asignar los valores\n",
    "\n",
    "print(tupla_persona[0])\n",
    "print(apellido)\n",
    "print(tupla_persona[-1])"
   ]
  },
  {
   "cell_type": "code",
   "execution_count": 31,
   "metadata": {},
   "outputs": [
    {
     "name": "stdout",
     "output_type": "stream",
     "text": [
      "(1, 2, 3, 'A', 'B', 'C', 'Kevin', 'Esquivel', 26)\n",
      "(1, 2, 3, 'A', 'B', 'C', 'Kevin', 'Esquivel', 26)\n"
     ]
    }
   ],
   "source": [
    "#Concatenar dos tuplas:\n",
    "\n",
    "nueva_tupla = tupla + tupla_persona\n",
    "\n",
    "print(tupla + tupla_persona)\n",
    "print(nueva_tupla)"
   ]
  },
  {
   "cell_type": "code",
   "execution_count": 33,
   "metadata": {},
   "outputs": [
    {
     "name": "stdout",
     "output_type": "stream",
     "text": [
      "¡Bienvenido Kevin!\n"
     ]
    }
   ],
   "source": [
    "#Comprobar si un elemento está en una tupla: Se puede usar el operador in para verificar si un elemento está presente en una tupla.\n",
    "\n",
    "tupla_persona = ('Kevin','Esquivel', 26)\n",
    "\n",
    "if 'Kevin' in tupla_persona:\n",
    "    print('¡Bienvenido Kevin!')"
   ]
  },
  {
   "cell_type": "markdown",
   "metadata": {},
   "source": [
    "### Funciones útiles:\n",
    "\n",
    "- **len(tupla)**: Devuelve la longitud de la tupla.\n",
    "- **max(tupla)**: Devuelve el elemento máximo de la tupla.\n",
    "- **min(tupla)**: Devuelve el elemento mínimo de la tupla.\n",
    "\n",
    "### Cuándo usar tuplas:\n",
    "\n",
    "Las tuplas son una buena opción para almacenar datos que no van a cambiar, como:\n",
    "\n",
    "- Coordenadas en un mapa.\n",
    "- Fechas y horas.\n",
    "- Pares clave-valor en un diccionario."
   ]
  },
  {
   "cell_type": "code",
   "execution_count": 34,
   "metadata": {},
   "outputs": [
    {
     "name": "stdout",
     "output_type": "stream",
     "text": [
      "(1, 2, 3, 2, 'a', 'b', 'c')\n",
      "1\n",
      "2\n"
     ]
    }
   ],
   "source": [
    "tupla = (1,2,3,2,'a','b','c')\n",
    "print(tupla)\n",
    "print(tupla[0])\n",
    "print(tupla[3])"
   ]
  },
  {
   "cell_type": "code",
   "execution_count": 35,
   "metadata": {},
   "outputs": [
    {
     "name": "stdout",
     "output_type": "stream",
     "text": [
      "Posición:  5\n"
     ]
    }
   ],
   "source": [
    "posicion = tupla.index('b')\n",
    "print(\"Posición: \", posicion)"
   ]
  },
  {
   "cell_type": "code",
   "execution_count": 36,
   "metadata": {},
   "outputs": [
    {
     "name": "stdout",
     "output_type": "stream",
     "text": [
      "Cantida de repeticiones de dos:  2\n"
     ]
    }
   ],
   "source": [
    "numDos = tupla.count(2)\n",
    "print(\"Cantida de repeticiones de dos: \", numDos)"
   ]
  },
  {
   "cell_type": "code",
   "execution_count": null,
   "metadata": {},
   "outputs": [],
   "source": [
    "#Utilizar una tupla en un ciclo for:\n",
    "for elemento in tupla:\n",
    "    print(elemento)"
   ]
  },
  {
   "cell_type": "code",
   "execution_count": null,
   "metadata": {},
   "outputs": [],
   "source": [
    "#Asignar valores de una tupla a variables:\n",
    "tupla = (\"Luis\", \"Ferreto\", 32)\n",
    "Nombre,Apellido,edad = tupla\n",
    "print(Nombre)\n",
    "print(Apellido)\n",
    "print(edad)"
   ]
  },
  {
   "cell_type": "code",
   "execution_count": null,
   "metadata": {},
   "outputs": [],
   "source": [
    "#Concatenar dos tuplas\n",
    "Tupla1 = (1,2,3)\n",
    "Tupla2 = (4,5,6)\n",
    "Tupla3 = Tupla1 + Tupla2\n",
    "print(Tupla3)"
   ]
  },
  {
   "cell_type": "code",
   "execution_count": 37,
   "metadata": {},
   "outputs": [
    {
     "name": "stdout",
     "output_type": "stream",
     "text": [
      "3\n",
      "1\n",
      "c\n",
      "a\n"
     ]
    }
   ],
   "source": [
    "tupla1 = (1,2,3,2)\n",
    "\n",
    "print(max(tupla1))\n",
    "print(min(tupla1))\n",
    "\n",
    "tupla2 = ('a','b','c')\n",
    "\n",
    "print(max(tupla2))\n",
    "print(min(tupla2))"
   ]
  },
  {
   "cell_type": "markdown",
   "metadata": {},
   "source": [
    "\n",
    "## **Creación de diccionarios:**\n",
    "Los diccionarios son colecciones no ordenadas que almacenan pares\n",
    "clave-valor en Python. Son una herramienta poderosa para almacenar y\n",
    "acceder a datos de una manera eficiente.\n",
    "\n",
    "Los diccionarios se pueden crear de varias maneras:\n",
    "\n",
    "-   **Usando llaves **{}** con pares clave-valor separados por dos\n",
    "    puntos:**\n",
    "\n",
    "```Python"
   ]
  },
  {
   "cell_type": "code",
   "execution_count": 42,
   "metadata": {},
   "outputs": [
    {
     "name": "stdout",
     "output_type": "stream",
     "text": [
      "Kevin\n",
      "89.21\n",
      "<class 'float'>\n",
      "<class 'int'>\n",
      "98.4\n"
     ]
    }
   ],
   "source": [
    "#Crear un diccionario\n",
    "\n",
    "estudiante = {\n",
    "    'nombre' : 'Kevin', # La clave es nombre y el valor es Fiorella\n",
    "    'apellido' : 'Esquivel', # La clave es apellido y el valor es Chavarría\n",
    "    'edad' : 26, # La clave es edad y el valor es 21\n",
    "    'nota' : 89.21 # La clave es nota y el valor es 88.40\n",
    "}\n",
    "\n",
    "print(estudiante['nombre'])\n",
    "print(estudiante['nota'])\n",
    "\n",
    "print(type(estudiante['nota']))\n",
    "print(type(estudiante['edad']))\n",
    "\n",
    "# Modificar un valor en un diccionario\n",
    "\n",
    "estudiante['nota'] = 98.40\n",
    "print(estudiante['nota'])"
   ]
  },
  {
   "cell_type": "code",
   "execution_count": 46,
   "metadata": {},
   "outputs": [
    {
     "name": "stdout",
     "output_type": "stream",
     "text": [
      "{'nombre': 'Kevin', 'apellido': 'Esquivel', 'edad': 26, 'nota': 98.4, 'altura': 1.82, 'estado_civil': 'Casado'}\n",
      "nombre apellido edad nota altura estado_civil\n",
      "Casado\n"
     ]
    }
   ],
   "source": [
    "#Agregar nuevos pares clave-valor a un diccionario\n",
    "\n",
    "estudiante['altura'] = 1.82\n",
    "estudiante['estado_civil'] = 'Casado'\n",
    "\n",
    "print(estudiante) # Imprimir todo el diccionario\n",
    "print(*estudiante) # Imprimir las claves o columnas del diccionario\n",
    "print(estudiante['estado_civil'])"
   ]
  },
  {
   "cell_type": "code",
   "execution_count": 60,
   "metadata": {},
   "outputs": [
    {
     "name": "stdout",
     "output_type": "stream",
     "text": [
      "Recorriendo las claves (columnas)\n",
      "nombre\n",
      "apellido\n",
      "edad\n",
      "nota\n",
      "altura\n",
      "estado_civil\n",
      "----------------------------------------------\n",
      "Recorriendo los valores (filas) - Método 1\n",
      "nombre: Kevin\n",
      "apellido: Esquivel\n",
      "edad: 26\n",
      "nota: 98.4\n",
      "altura: 1.82\n",
      "estado_civil: Casado\n",
      "----------------------------------------------\n",
      "Recorriendo los valores (filas) - Método 2\n",
      "nombre : Kevin\n",
      "apellido : Esquivel\n",
      "edad : 26\n",
      "nota : 98.4\n",
      "altura : 1.82\n",
      "estado_civil : Casado\n"
     ]
    }
   ],
   "source": [
    "#Recorriendo Claves y valores en For\n",
    "\n",
    "print('Recorriendo las claves (columnas)')\n",
    "for clave in estudiante:\n",
    "    print(clave)\n",
    "print('----------------------------------------------')\n",
    "print('Recorriendo los valores (filas) - Método 1')\n",
    "for clave, valor in estudiante.items():\n",
    "    print(f'{clave}: {valor}')\n",
    "print('----------------------------------------------')\n",
    "print('Recorriendo los valores (filas) - Método 2')\n",
    "for elementos in estudiante:\n",
    "    print(elementos,\":\", estudiante[elementos])"
   ]
  },
  {
   "cell_type": "code",
   "execution_count": 61,
   "metadata": {},
   "outputs": [
    {
     "name": "stdout",
     "output_type": "stream",
     "text": [
      "{'nombre': 'Kevin', 'apellido': 'Esquivel', 'edad': 26, 'nota': 98.4, 'altura': 1.82}\n"
     ]
    }
   ],
   "source": [
    "#Eliminar elementos del diccionario\n",
    "\n",
    "del estudiante['estado_civil']\n",
    "\n",
    "print(estudiante)\n",
    "\n",
    "#estudiante.clear()   # Limpia claves y valores\n",
    "#del estudiante # Elimina de memoria\n",
    "#estudiante.pop[1] # Elimina por índice"
   ]
  },
  {
   "cell_type": "code",
   "execution_count": 63,
   "metadata": {},
   "outputs": [
    {
     "name": "stdout",
     "output_type": "stream",
     "text": [
      "True\n",
      "False\n"
     ]
    }
   ],
   "source": [
    "#Comprobar si una clave existe en el diccionario\n",
    "\n",
    "print('nombre' in estudiante)\n",
    "\n",
    "print('estado_civil' in estudiante)\n"
   ]
  },
  {
   "cell_type": "code",
   "execution_count": null,
   "metadata": {},
   "outputs": [],
   "source": [
    "#Zip(). Esta función toma dos o más listas y devuelve un \n",
    "# objeto iterable que contiene tuplas con los elementos\n",
    "# correspondientes de cada lista.\n",
    "\n",
    "\n"
   ]
  }
 ],
 "metadata": {
  "kernelspec": {
   "display_name": "Python 3",
   "language": "python",
   "name": "python3"
  },
  "language_info": {
   "codemirror_mode": {
    "name": "ipython",
    "version": 3
   },
   "file_extension": ".py",
   "mimetype": "text/x-python",
   "name": "python",
   "nbconvert_exporter": "python",
   "pygments_lexer": "ipython3",
   "version": "3.13.1"
  }
 },
 "nbformat": 4,
 "nbformat_minor": 2
}
