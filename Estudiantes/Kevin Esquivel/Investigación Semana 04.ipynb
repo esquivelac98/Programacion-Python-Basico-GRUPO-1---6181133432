{
    "cells": [
        {
            "attachments": {},
            "cell_type": "markdown",
            "metadata": {
                "azdata_cell_guid": "5a9661f6-9c22-438b-8530-debb92fea2ff"
            },
            "source": [
                "# Trabajo de Investigación - Sección I: Introducción\n",
                "\n",
                "## Programacion Python Básico | ICAI\n",
                "\n",
                "## Profesor: Ing. Andrés Mena Abarca\n",
                "\n",
                "### <mark>**Nombre del estudiante: Kevin Esquivel Acuña**</mark>\n",
                "\n",
                "* * *\n",
                "\n",
                "## **1\\. Propósito**\n",
                "\n",
                "Este notebook explora el uso de funciones en Python, su importancia en la programación modular y su impacto en la eficiencia del código.\n",
                "Además, se mostrará cómo se pueden definir y utilizar funciones en Python, así como destacar sus beneficios en el desarrollo de programas más eficientes y ordenados.\n",
                "\n",
                "\n",
                "#### **¿Por qué es importante el uso de funciones en la programación de Python?**\n",
                "\n",
                "La importancia de las funciones radica en que permiten dividir un programa en partes más pequeñas y manejables, lo que mejora la organización del código. Ayudan a evitar la repetición, facilitan el mantenimiento y la depuración del código, y permiten que otros programadores entiendan y colaboren más fácilmente en proyectos grandes. Además, las funciones hacen que el código sea más modular y escalable, lo que es esencial para el desarrollo de aplicaciones complejas.\n",
                "\n",
                "#### **¿Qué es un código modular y escalable?**\n",
                "\n",
                "Un código modular y escalable se refiere a una estructura de programación que está organizada de manera que sea fácil de mantener, ampliar y modificar sin afectar otras partes del sistema.\n",
                "\n",
                "Algunas ventajas o beneficios del código modular son:\n",
                "- **Reutilización:** Las partes del código se pueden reutilizar en diferentes lugares sin necesidad de reescribirlas.\n",
                "- **Mantenimiento:** Es más fácil identificar y corregir errores o mejorar una función sin tener que revisar todo el programa.\n",
                "- **Legibilidad:** El código es más fácil de entender y organizar.\n",
                "\n",
                "Algunas ventajas o beneficios del código escalable son:\n",
                "- **Eficiencia:** El rendimiento del sistema no disminuye a medida que se añaden más recursos o usuarios.\n",
                "- **Flexibilidad:** El código puede ser ampliado para incluir nuevas características sin necesidad de reescribir todo desde cero.\n",
                "- **Adaptabilidad:** A medida que el sistema crece, se pueden incorporar mejoras o ajustes para optimizar su funcionamiento."
            ]
        },
        {
            "attachments": {},
            "cell_type": "markdown",
            "metadata": {
                "azdata_cell_guid": "e75d82f8-c903-459c-b6b4-3cdc9d23ac5c"
            },
            "source": [
                "# Trabajo de Investigación - Sección II: Investigación y ejemplos\n",
                "\n",
                "#### **3.1 ¿Qué son las funciones en Python?**\n",
                "\n",
                "Las funciones en Python son bloques de código que realizan una tarea específica y que pueden ser reutilizados en diferentes partes de un programa. Se definen una vez usando la palabra clave def, y luego pueden ser invocadas en cualquier momento con su nombre.\n",
                "\n",
                "A continuación, se mostrarán dos ejemplos básicos de funciones en Python:"
            ]
        },
        {
            "cell_type": "code",
            "execution_count": 3,
            "metadata": {
                "azdata_cell_guid": "26417c6c-aa5d-41a9-b7c7-fa268a476a6d",
                "language": "python"
            },
            "outputs": [
                {
                    "name": "stdout",
                    "output_type": "stream",
                    "text": [
                        "¡Hola, bienvenido a Python!\n",
                        "¡Hola, Yendry Chinchilla! Bienvenido al sistema.\n",
                        "¡Hola, Kevin Esquivel! Bienvenido al sistema.\n"
                    ]
                }
            ],
            "source": [
                "## **Ejemplo 1**\n",
                "\n",
                "def saludar():                              # Se define la función\n",
                "    print(\"¡Hola, bienvenido a Python!\")    # Se imprime una salida\n",
                "\n",
                "saludar()                                   # Se llama (invoca) a la función\n",
                "\n",
                "# Lo anterior hace referencia a un ejemplo de función sin parámetro, es decir, sin un argumento.\n",
                "\n",
                "\n",
                "\n",
                "## **Ejemplo 2**\n",
                "\n",
                "def saludar(nombre):                                    # Se define la función\n",
                "    print(f\"¡Hola, {nombre}! Bienvenido al sistema.\")     # Se imprime una salida\n",
                "\n",
                "saludar(\"Yendry Chinchilla\")                               # Se llama (invoca) a la función con un argumento 'quemado'\n",
                "\n",
                "# Lo anterior hace referencia a un ejemplo de función con parámetro, es decir, con un argumento.\n",
                "\n",
                "\n",
                "\n",
                "## **Ejemplo 3**\n",
                "\n",
                "def saludar(nombre):                                                        # Se define la función\n",
                "    print(f\"¡Hola, {nombre}! Bienvenido al sistema.\")                       # Se imprime una salida\n",
                "\n",
                "nombre_usuario = input(\"Por favor, ingrese su nombre y un apellido: \")      # Se solicita al usuario que ingrese su nombre y un apellido\n",
                "\n",
                "saludar(nombre_usuario)                                                     # Se llama (invoca) a la función\n",
                "\n",
                "# Lo anterior hace referencia a un ejemplo de función con parámetro, de una manera más dinámica."
            ]
        },
        {
            "cell_type": "markdown",
            "metadata": {},
            "source": [
                "#### **¿Cuáles son los beneficios de modularizar código con funciones?**\n",
                "\n",
                "Modularizar código utilizando funciones tiene varios beneficios clave que mejoran tanto la calidad del código como la eficiencia del desarrollo. A continuación, se brindarán algunos beneficios:\n",
                "\n",
                "- **Reutilización de código.**\n",
                "- **Facilidad para depurar y localizar errores.**\n",
                "- **Legibilidad y organización del código.**\n",
                "- **Mantenimiento simplificado.**\n",
                "- **Colaboración más fácil en equipos.**\n",
                "- **Pruebas unitarias más fáciles.**\n",
                "- **Escalabilidad para agregar nuevas funcionalidades.**\n",
                "\n",
                "Estos son algunos ejemplos (creados en base a ejemplos de investigación) sobre los beneficios de modularizar código con funciones:"
            ]
        },
        {
            "cell_type": "code",
            "execution_count": 10,
            "metadata": {},
            "outputs": [
                {
                    "name": "stdout",
                    "output_type": "stream",
                    "text": [
                        "**Resultados del ejemplo #1**\n",
                        "El área del círculo con radio 5.0 es: 78.5\n",
                        "¡Gracias por utilizar nuestro sistema de cálculos matemáticos!\n",
                        "\n",
                        "\n",
                        "**Resultados del ejemplo #2**\n",
                        "El resultado de la división 10.0 / 0.0 es: **Error: El denominador ingresado es 0. Por favor ingrese un valor diferente a 0.**\n",
                        "¡Gracias por utilizar nuestro sistema de cálculos matemáticos!\n"
                    ]
                }
            ],
            "source": [
                "## Ejemplo 1: Reutilización de código\"\n",
                "\n",
                "def calcular_area_circulo(radio):\n",
                "    return 3.14 * radio * radio         # La fórmula para obtener el área de un circulo es: π r²\n",
                "\n",
                "radio = float(input(\"Por favor, ingrese el radio del círculo: \"))\n",
                "area = calcular_area_circulo(radio)\n",
                "\n",
                "print('**Resultados del ejemplo #1**')\n",
                "print(f\"El área del círculo con radio {radio} es: {area}\")\n",
                "print('¡Gracias por utilizar nuestro sistema de cálculos matemáticos!')\n",
                "\n",
                "\n",
                "## Ejemplo 2: Facilidad para depurar y localizar errores\"\n",
                "\n",
                "def dividir(a, b):\n",
                "    if b == 0:\n",
                "        return \"**Error: El denominador ingresado es 0. Por favor ingrese un valor diferente a 0.**\"\n",
                "    return a / b\n",
                "\n",
                "numerador = float(input(\"Por favor, ingrese el primer número (numerador): \"))\n",
                "denominador = float(input(\"Por favor, ingrese el segundo número (denominador): \"))\n",
                "resultado = dividir(numerador, denominador)\n",
                "\n",
                "print('\\n\\n**Resultados del ejemplo #2**')\n",
                "print(f\"El resultado de la división {numerador} / {denominador} es: {resultado}\")\n",
                "print('¡Gracias por utilizar nuestro sistema de cálculos matemáticos!')"
            ]
        },
        {
            "cell_type": "markdown",
            "metadata": {},
            "source": [
                "#### **¿Cuál es la importancia de la reutilización de código?**\n",
                "\n",
                "La reutilización de código en Python es fundamental porque permite ahorrar tiempo y esfuerzo al evitar escribir funciones o módulos desde cero. Al reutilizar código probado y organizado, se mejora la consistencia y se reduce la posibilidad de errores. Además, facilita el mantenimiento, ya que cualquier cambio necesario se realiza en un solo lugar, lo que hace el código más fácil de gestionar a lo largo del tiempo. Esta práctica fomenta la modularidad y el uso de buenas prácticas, optimizando recursos y garantizando que el código sea más escalable y flexible para futuros desarrollos.\n",
                "\n",
                "Anteriormente, observamos un ejemplo de la reutilización de código. Sin embargo, a continuación se mostrará un ejemplo más:"
            ]
        },
        {
            "cell_type": "code",
            "execution_count": 2,
            "metadata": {},
            "outputs": [
                {
                    "name": "stdout",
                    "output_type": "stream",
                    "text": [
                        "El cuadrado de 10 es: 100\n",
                        "\n",
                        "El cuadrado de 2 es: 4\n"
                    ]
                }
            ],
            "source": [
                "def cuadrado(x):\n",
                "    return x ** 2 # ** es un operador para obtener la potencia de un número\n",
                "\n",
                "numero1 = int(input(\"Por favor, ingrese el primer número: \"))\n",
                "numero2 = int(input(\"Por favor, ingrese el segundo número: \"))\n",
                "\n",
                "resultado1 = cuadrado(numero1)\n",
                "print(f\"El cuadrado de {numero1} es: {resultado1}\")\n",
                "\n",
                "resultado2 = cuadrado(numero2)\n",
                "print(f\"\\nEl cuadrado de {numero2} es: {resultado2}\")\n"
            ]
        },
        {
            "cell_type": "markdown",
            "metadata": {},
            "source": [
                "# Trabajo de Investigación - Sección II: Investigación y ejemplos\n",
                "\n",
                "#### **3.2 Tipos de funciones en Python**\n",
                "\n",
                "1. **Funciones con y sin retorno**\n",
                "\n",
                "Las funciones con retorno devuelven un valor cuando se llaman, mientras que las funciones sin retorno no devuelven nada, solo ejecutan un bloque de código."
            ]
        },
        {
            "cell_type": "code",
            "execution_count": 10,
            "metadata": {},
            "outputs": [
                {
                    "name": "stdout",
                    "output_type": "stream",
                    "text": [
                        " **Ejemplo con retorno**\n",
                        "El resultado de la sumatoria de 1256 y 2669 es: 3925\n",
                        "\n",
                        "\n",
                        " **Ejemplo sin retorno**\n",
                        "¡Que bonito ser de Costa Rica, pura vida!\n"
                    ]
                }
            ],
            "source": [
                "## Ejemplo de función con retorno ##\n",
                "\n",
                "def sumar(a, b):\n",
                "    if a == 0 and b == 0:\n",
                "        print('Error: está intentando sumar dos veces el número 0.')\n",
                "    return a + b\n",
                "\n",
                "a = int(input(\"Por favor, ingrese el primer número: \"))\n",
                "b = int(input(\"Por favor, ingrese el segundo número: \"))\n",
                "\n",
                "resultado = sumar(a,b)\n",
                "print(' **Ejemplo con retorno**')\n",
                "print(f'El resultado de la sumatoria de {a} y {b} es: {resultado}')\n",
                "\n",
                "\n",
                "\n",
                "## Ejemplo de función sin retorno ##\n",
                "\n",
                "def imprimir_mensaje():\n",
                "    print(\"¡Que bonito ser de Costa Rica, pura vida!\")\n",
                "\n",
                "print('\\n\\n **Ejemplo sin retorno**')\n",
                "imprimir_mensaje()"
            ]
        },
        {
            "cell_type": "markdown",
            "metadata": {},
            "source": [
                "2. **Funciones con parámetros y valores predeterminados**\n",
                "\n",
                "Las funciones con parámetros permiten pasar valores al definirlas. Si un parámetro tiene un valor predeterminado, se puede omitir al llamar la función."
            ]
        },
        {
            "cell_type": "code",
            "execution_count": 12,
            "metadata": {},
            "outputs": [
                {
                    "name": "stdout",
                    "output_type": "stream",
                    "text": [
                        " **Ejemplo con parámetros y valores predeterminados**\n",
                        "¡Hola, Yendry!\n",
                        "¡Hola, Kevin!\n"
                    ]
                }
            ],
            "source": [
                "def saludar(nombre=\"Kevin\"):\n",
                "    print(f\"¡Hola, {nombre}!\")\n",
                "    \n",
                "print(' **Ejemplo con parámetros y valores predeterminados**')\n",
                "saludar(\"Yendry\")\n",
                "saludar()"
            ]
        },
        {
            "cell_type": "markdown",
            "metadata": {},
            "source": [
                "3. **Uso de args y kwargs**\n",
                "\n",
                "- args se usa para pasar una cantidad variable de argumentos no nombrados (tupla).\n",
                "\n",
                "- kwargs se usa para pasar una cantidad variable de argumentos con nombre (diccionario)."
            ]
        },
        {
            "cell_type": "code",
            "execution_count": 16,
            "metadata": {},
            "outputs": [
                {
                    "name": "stdout",
                    "output_type": "stream",
                    "text": [
                        "1\n",
                        "2\n",
                        "3\n",
                        "nombre: Kevin\n",
                        "edad: 26\n"
                    ]
                }
            ],
            "source": [
                "def mostrar_args(*args):\n",
                "    for arg in args:\n",
                "        print(arg)\n",
                "\n",
                "mostrar_args(1, 2, 3)\n",
                "\n",
                "def mostrar_kwargs(**kwargs):\n",
                "    for key, value in kwargs.items():\n",
                "        print(f\"{key}: {value}\")\n",
                "\n",
                "mostrar_kwargs(nombre = \"Kevin\", edad = 26)\n",
                "\n",
                "# **** Consultar al profe, ya que no entiendo bien el funcionamiento ****"
            ]
        },
        {
            "cell_type": "markdown",
            "metadata": {},
            "source": [
                "4. **Funciones anónimas (lambda)**\n",
                "\n",
                "Las funciones anónimas o lambda son funciones pequeñas que se definen en una sola línea. Se usan cuando se necesita una función simple y no se quiere definir una función completa."
            ]
        },
        {
            "cell_type": "code",
            "execution_count": null,
            "metadata": {},
            "outputs": [
                {
                    "name": "stdout",
                    "output_type": "stream",
                    "text": [
                        "Se vendieron 5 manzanas a un precio unitario de 2369, para un total vendido de: 11845 colones.\n"
                    ]
                }
            ],
            "source": [
                "multiplicacion = lambda x, y: x * y\n",
                "\n",
                "cantidad_vendida = int(input(\"Ingresa el primer número: \"))\n",
                "precio_venta = int(input(\"Ingresa el segundo número: \"))\n",
                "\n",
                "resultado = multiplicacion(cantidad_vendida, precio_venta)\n",
                "\n",
                "print(f\"Se vendieron {cantidad_vendida} manzanas a un precio unitario de {precio_venta}, para un total vendido de: {resultado} colones.\")\n",
                "\n",
                "\n",
                "# Según se investigó sobre el ejemplo:\n",
                "\n",
                "# x y y son los nombres de los parámetros de la función lambda; son simplemente \"etiquetas\" temporales que se utilizan dentro\n",
                "# de la función para hacer referencia a los valores que se les van a pasar.\n",
                "# cantidad_vendida y precio_venta son las variables que almacenan los valores ingresados por el usuario.\n",
                "\n"
            ]
        },
        {
            "cell_type": "markdown",
            "metadata": {},
            "source": [
                "5. **Funciones recursivas**\n",
                "\n",
                "Son funciones que se llaman a sí mismas. Se usan para resolver problemas más pequeños de un problema mayor, como en el caso de cálculos como el factorial."
            ]
        },
        {
            "cell_type": "code",
            "execution_count": 21,
            "metadata": {},
            "outputs": [
                {
                    "name": "stdout",
                    "output_type": "stream",
                    "text": [
                        "El número de Fibonacci en la posición 3 es: 2\n"
                    ]
                }
            ],
            "source": [
                "def fibonacci(n):\n",
                "    if n <= 1:  # Si n es 0 o 1, se devuelve n\n",
                "        return n\n",
                "    else:\n",
                "        # Recursión: la suma de los dos números anteriores\n",
                "        return fibonacci(n - 1) + fibonacci(n - 2)\n",
                "\n",
                "n = int(input(\"Ingresa el número para calcular el Fibonacci: \"))\n",
                "\n",
                "resultado = fibonacci(n)\n",
                "print(f\"El número de Fibonacci en la posición {n} es: {resultado}\")\n"
            ]
        },
        {
            "cell_type": "markdown",
            "metadata": {},
            "source": [
                "6. **Generadores (yield)**\n",
                "\n",
                "Los generadores son funciones que permiten iterar sobre una secuencia de valores de manera eficiente, generando valores bajo demanda con la palabra clave yield."
            ]
        },
        {
            "cell_type": "code",
            "execution_count": 33,
            "metadata": {},
            "outputs": [
                {
                    "name": "stdout",
                    "output_type": "stream",
                    "text": [
                        "Ejemplo iniciando en 1 la variable n: 1\n",
                        "Ejemplo iniciando en 1 la variable n: 2\n",
                        "Ejemplo iniciando en 1 la variable n: 3\n",
                        "Ejemplo iniciando en 1 la variable n: 4\n",
                        "Ejemplo iniciando en 1 la variable n: 5\n",
                        "Ejemplo iniciando en 0 la variable p: 0\n",
                        "Ejemplo iniciando en 0 la variable p: 1\n",
                        "Ejemplo iniciando en 0 la variable p: 2\n",
                        "Ejemplo iniciando en 0 la variable p: 3\n",
                        "Ejemplo iniciando en 0 la variable p: 4\n"
                    ]
                }
            ],
            "source": [
                "def contar_hasta(n):\n",
                "    i = 1  # Se inicia la variable i con el valor 1\n",
                "    while i <= n:\n",
                "        yield i  # Aquí la función \"cede\" el control y devuelve el valor de i\n",
                "        i += 1\n",
                "\n",
                "n = int(input(\"Ingresa el número hasta el cuál quieras contar (inclusive): \"))\n",
                "\n",
                "generador = contar_hasta(n)\n",
                "\n",
                "for numero in generador:\n",
                "    print(f'Ejemplo iniciando en 1 la variable n: {numero}')\n",
                "    \n",
                "# Según se investigó, si se inicia la variable i en 0 y se modifica el while i < n,\n",
                "# entonces iniciaría a contar desde el 0 hasta el número ingresado por el usuario.\n",
                "\n",
                "def contar_hastaV2(n):\n",
                "    p = 0  # Se inicia la variable i con el valor 1\n",
                "    while p < n:\n",
                "        yield p  # Aquí la función \"cede\" el control y devuelve el valor de i\n",
                "        p += 1\n",
                "\n",
                "e = int(input(\"Ingresa el número hasta el cuál quieras contar (inclusive): \"))\n",
                "\n",
                "generador = contar_hastaV2(e)\n",
                "\n",
                "for numero in generador:\n",
                "    print(f'Ejemplo iniciando en 0 la variable p: {numero}')"
            ]
        },
        {
            "cell_type": "markdown",
            "metadata": {},
            "source": [
                "7. **Closures y decoradores**\n",
                "\n",
                "Un closure es una función que recuerda el entorno en el que fue creada, permitiendo que acceda a variables fuera de su alcance.\n",
                "\n",
                "Un decorador es una función que modifica o extiende el comportamiento de otra función sin modificar su código original."
            ]
        },
        {
            "cell_type": "code",
            "execution_count": 38,
            "metadata": {},
            "outputs": [
                {
                    "name": "stdout",
                    "output_type": "stream",
                    "text": [
                        "El resultado de multiplicar 69 por 69 es: 4761\n",
                        "\n",
                        "\n",
                        "Antes de ejecutar la función\n",
                        "Say cheese\n",
                        "Después de ejecutar la función\n"
                    ]
                }
            ],
            "source": [
                "# Ejemplo (Closure):\n",
                "\n",
                "def crear_multiplicador(x):\n",
                "    def multiplicar(y):\n",
                "        return x * y\n",
                "    return multiplicar\n",
                "\n",
                "x = int(input(\"Ingresa el número con el que multiplicarás: \"))\n",
                "\n",
                "multiplicar_por_x = crear_multiplicador(x)\n",
                "\n",
                "y = int(input(\"Ingresa el número que deseas multiplicar: \"))\n",
                "\n",
                "print(f\"El resultado de multiplicar {x} por {y} es: {multiplicar_por_x(y)}\")\n",
                "\n",
                "\n",
                "# Ejemplo (Decoradores):\n",
                "\n",
                "def decorador(func):\n",
                "    def wrapper():\n",
                "        print(\"\\n\\nAntes de ejecutar la función\")\n",
                "        func()\n",
                "        print(\"Después de ejecutar la función\")\n",
                "    return wrapper\n",
                "\n",
                "@decorador\n",
                "def saludar():\n",
                "    saludo = input(\"Ingresa un saludo: \")\n",
                "    print(saludo)\n",
                "\n",
                "saludar()"
            ]
        },
        {
            "cell_type": "markdown",
            "metadata": {},
            "source": [
                "# Trabajo de Investigación - Sección II: Investigación y ejemplos\n",
                "\n",
                "#### **3.3 Aplicación de Funciones en Problemas Reales**\n",
                "\n",
                "### 1. Aplicación en estructuras de datos (listas, diccionarios)"
            ]
        },
        {
            "cell_type": "code",
            "execution_count": 4,
            "metadata": {},
            "outputs": [
                {
                    "name": "stdout",
                    "output_type": "stream",
                    "text": [
                        "Estudiantes aprobados: {'Kevin': 87.67, 'Yendry': 91.67, 'Enrique': 80.0}\n",
                        "Estudiantes no aprobados: {'Luis': 66.67}\n"
                    ]
                }
            ],
            "source": [
                "# Se crea un diccionario con la información de estudiantes y sus calificaciones\n",
                "\n",
                "estudiantes = {\n",
                "    \"Kevin\": [85, 90, 88],\n",
                "    \"Yendry\": [92, 89, 94],\n",
                "    \"Enrique\": [78, 82, 80],\n",
                "    \"Luis\": [95, 91, 93]\n",
                "}\n",
                "\n",
                "# Se crea la siguiente función para actualizar las calificaciones de un estudiante\n",
                "def actualizar_calificaciones(diccionario, nombre, nuevas_calificaciones):\n",
                "    if nombre in diccionario:\n",
                "        diccionario[nombre] = nuevas_calificaciones\n",
                "    else:\n",
                "        print(f\"El estudiante {nombre} no existe en la base de datos.\")\n",
                "\n",
                "# Se crea la siguiente función para filtrar estudiantes con promedio mayor a un umbral (promedio mínimo para que un estudiante apruebe)\n",
                "def filtrar_por_promedio(diccionario, umbral):\n",
                "    aprobados = {}\n",
                "    no_aprobados = {}\n",
                "    for nombre, calificaciones in diccionario.items():\n",
                "        promedio = round(sum(calificaciones) / len(calificaciones), 2)\n",
                "        if promedio >= umbral:\n",
                "            aprobados[nombre] = promedio\n",
                "        else:\n",
                "            no_aprobados[nombre] = promedio\n",
                "    return aprobados, no_aprobados\n",
                "\n",
                "# Prueba para actualizar las calificaciones de un estudiante en específico\n",
                "actualizar_calificaciones(estudiantes, \"Luis\", [60, 55, 85])\n",
                "\n",
                "# Prueba para filtrar estudiantes con promedio mayor a 80\n",
                "aprobados, no_aprobados = filtrar_por_promedio(estudiantes, 80)\n",
                "print(\"Estudiantes aprobados:\", aprobados)\n",
                "print(\"Estudiantes no aprobados:\", no_aprobados)\n"
            ]
        },
        {
            "cell_type": "markdown",
            "metadata": {},
            "source": [
                "### 2. Uso de funciones en procesamiento de datos"
            ]
        },
        {
            "cell_type": "code",
            "execution_count": 12,
            "metadata": {},
            "outputs": [
                {
                    "name": "stdout",
                    "output_type": "stream",
                    "text": [
                        "\n",
                        "Kevin \n",
                        "Promedio: 87.67 \n",
                        "Desviación Estándar: 2.05\n",
                        "\n",
                        "Yendry \n",
                        "Promedio: 91.67 \n",
                        "Desviación Estándar: 2.05\n",
                        "\n",
                        "Enrique \n",
                        "Promedio: 80.00 \n",
                        "Desviación Estándar: 1.63\n",
                        "\n",
                        "Luis \n",
                        "Promedio: 66.67 \n",
                        "Desviación Estándar: 13.12\n"
                    ]
                }
            ],
            "source": [
                "import math\n",
                "\n",
                "# Se crea la siguiente función para calcular la media\n",
                "def calcular_media(calificaciones):\n",
                "    return round(sum(calificaciones) / len(calificaciones), 2)\n",
                "\n",
                "# Se crea la siguiente función para calcular la desviación estándar\n",
                "def calcular_desviacion_estandar(calificaciones):\n",
                "    media = calcular_media(calificaciones)\n",
                "    varianza = round(sum((x - media) ** 2 for x in calificaciones) / len(calificaciones), 2)\n",
                "    return math.sqrt(varianza)\n",
                "\n",
                "# Calculando las estadísticas de cada estudiante\n",
                "for nombre, calificaciones in estudiantes.items():\n",
                "    media = calcular_media(calificaciones)\n",
                "    desviacion = calcular_desviacion_estandar(calificaciones)\n",
                "    print(f\"\\n{nombre} \\nPromedio: {media:.2f} \\nDesviación Estándar: {desviacion:.2f}\")\n",
                "    \n",
                "## ¿Qué es la desviación estándar?\n",
                "# La desviación estándar es una medida estadística que indica la dispersión de un conjunto de datos en relación a su media.\n",
                "# Es un índice que se usa para describir la variabilidad de una variable continua."
            ]
        },
        {
            "cell_type": "markdown",
            "metadata": {},
            "source": [
                "### 3. Optimización del rendimiento con funciones"
            ]
        },
        {
            "cell_type": "code",
            "execution_count": 15,
            "metadata": {},
            "outputs": [
                {
                    "name": "stdout",
                    "output_type": "stream",
                    "text": [
                        "El promedio del estudiante Luis es: 66.67\n"
                    ]
                }
            ],
            "source": [
                "# Se crea la siguiente función optimizada para buscar el promedio de un estudiante\n",
                "def buscar_estudiante(diccionario, nombre):\n",
                "    calificaciones = diccionario.get(nombre)\n",
                "    if calificaciones is None: # Se usa calificaciones is None ya que el método .get() de los diccionarios en Python devuelve None cuando no encuentra una clave en el diccionario\n",
                "        return \"Estudiante no encontrado en la base de datos.\"\n",
                "    else:\n",
                "        promedio = round(sum(calificaciones) / len(calificaciones), 2)\n",
                "        return promedio\n",
                "    \n",
                "nombre_estudiante = input(\"Por favor ingrese el nombre del estudiante para buscar su promedio: \")\n",
                "\n",
                "promedio_estudiante = buscar_estudiante(estudiantes, nombre_estudiante)\n",
                "\n",
                "if promedio_estudiante == \"Estudiante no encontrado en la base de datos.\":\n",
                "    print(promedio_estudiante)\n",
                "else:\n",
                "    print(f\"El promedio del estudiante {nombre_estudiante} es: {promedio_estudiante}\")\n",
                "\n"
            ]
        },
        {
            "cell_type": "markdown",
            "metadata": {},
            "source": [
                "### 4. Comparación entre funciones definidas por el usuario y funciones integradas (len(), sum(), etc.)"
            ]
        },
        {
            "cell_type": "code",
            "execution_count": 18,
            "metadata": {},
            "outputs": [
                {
                    "name": "stdout",
                    "output_type": "stream",
                    "text": [
                        "Estudiante no encontrado en la base de datos.\n"
                    ]
                }
            ],
            "source": [
                "# Se crea la siguiente función personalizada para contar los elementos de una lista\n",
                "def contar_elementos(lista):\n",
                "    contador = 0\n",
                "    for i in lista:\n",
                "        contador += 1\n",
                "    return contador\n",
                "\n",
                "nombre_estudiante = input(\"Por favor ingrese el nombre del estudiante para contar sus calificaciones: \")\n",
                "\n",
                "# Lo siguiente es para verificar si el estudiante está en el diccionario\n",
                "if nombre_estudiante in estudiantes:\n",
                "    # Acá obtenemos las calificaciones del estudiante\n",
                "    lista_calificaciones = estudiantes[nombre_estudiante]\n",
                "    \n",
                "    # A continuación, se comparará len() con la función personalizada\n",
                "    longitud_integrada = len(lista_calificaciones)\n",
                "    longitud_personalizada = contar_elementos(lista_calificaciones)\n",
                "\n",
                "    print(f\"La cantidad de calificaciones de {nombre_estudiante} (con len) son: {longitud_integrada}\")\n",
                "    print(f\"La cantidad de calificaciones de {nombre_estudiante} (con función personalizada) son: {longitud_personalizada}\")\n",
                "else:\n",
                "    print(\"Estudiante no encontrado en la base de datos.\")\n"
            ]
        },
        {
            "cell_type": "markdown",
            "metadata": {},
            "source": [
                "# Trabajo de Investigación - Sección III: Conclusiones\n",
                "\n",
                "### 1. Resumen de hallazgos sobre la teoría y la práctica.\n",
                "\n",
                "El uso de funciones en Python es fundamental para hacer el código más organizado y fácil de entender. Dividir un programa en funciones hace que sea más sencillo encontrar y corregir errores, y permite que el código sea reutilizado en diferentes partes del proyecto sin tener que reescribirlo. Esto ahorra tiempo y reduce la posibilidad de cometer errores. Además, las funciones permiten que el código sea más flexible y escalable, lo cual es crucial cuando se trabaja en proyectos grandes o cuando se agregan nuevas funcionalidades. En cuanto a los diferentes tipos de funciones, Python ofrece muchas opciones útiles, como funciones que pueden recibir un número variable de argumentos o funciones pequeñas (lambda) que son ideales para tareas simples. También hay funciones recursivas y generadores, que son perfectas para trabajar con datos de forma eficiente sin consumir mucha memoria. En general, las funciones no solo hacen el código más limpio, sino que también facilitan la colaboración entre programadores y la expansión del proyecto con el tiempo.\n",
                "\n",
                "Respecto a la práctica, desconocía muchas de las funciones investigadas en el Notebook, así como en qué casos puedo utilizarlas y en qué me van a beneficiar a la hora de hacer código. Destaco la posibilidad de incluir operadores cono len, sum, round, entre otros, dentro de una función.\n",
                "\n",
                "En algunos de los ejemplos que investigué y realicé, me llamó la atención lo siguiente:\n",
                "\n",
                "- Funciones anónimas (lambda):\n",
                "\n",
                "x y y son los nombres de los parámetros de la función lambda; son simplemente \"etiquetas\" temporales que se utilizan dentro\n",
                "de la función para hacer referencia a los valores que se les van a pasar.\n",
                "cantidad_vendida y precio_venta son las variables que almacenan los valores ingresados por el usuario.\n",
                "\n",
                "- Generadores (yield):\n",
                "def contar_hasta(n):\n",
                "    i = 1  # Se inicia la variable i con el valor 1\n",
                "    while i <= n:\n",
                "        yield i  # Aquí la función \"cede\" el control y devuelve el valor de i\n",
                "        i += 1\n",
                "\n",
                "n = int(input(\"Ingresa el número hasta el cuál quieras contar (inclusive): \"))\n",
                "\n",
                "generador = contar_hasta(n)\n",
                "\n",
                "for numero in generador:\n",
                "    print(f'Ejemplo iniciando en 1 la variable n: {numero}')\n",
                "    \n",
                "Según se investigó, si se inicia la variable i en 0 y se modifica el while i < n,\n",
                "entonces iniciaría a contar desde el 0 hasta el número ingresado por el usuario.\n",
                "\n",
                "- Optimización de rendimiento con funciones\n",
                "\n",
                "def buscar_estudiante(diccionario, nombre):\n",
                "    calificaciones = diccionario.get(nombre)\n",
                "    if calificaciones is None:\n",
                "        return \"Estudiante no encontrado en la base de datos.\"\n",
                "    else:\n",
                "        promedio = round(sum(calificaciones) / len(calificaciones), 2)\n",
                "        return promedio\n",
                "\n",
                "Según se investigó, se usa calificaciones is None ya que el método .get() de los diccionarios en Python devuelve None cuando no encuentra una clave en el diccionario\n",
                "\n",
                "### 2. Análisis personal sobre qué aprendieron del uso de funciones en Python.\n",
                "\n",
                "Sobre el uso de las funciones aprendí algo muy importante, que en mi opinión es la base de aprender un lenguaje de programación; la sintáxis e indexación. También, que creando varias funciones, se disminuyen la cantidad de líneas de código y se automatizan tareas o procesos, ya que no hay que declarar o crear tantas variables, realizar cálculos externos y demás, si no que dentro de la misma función puedo utilizar bucles, estructuras condicionales, realizar cálculos, entre otros.\n",
                "\n",
                "Probé también como puedo manejar de diversas formas dentro de una función el dinamismo, es decir, que puedo solicitarle a un usuario un valor de entrada, puedo asignarlo como fijo (un campo quemado) o un híbrido, según sea el caso. Otros beneficios muy notorios, al menos para las pruebas o códigos que realicé e investigué, son la reutilización del código y el mantenimiento rápido que se le puede dar.\n",
                "\n",
                "Bastante provechoso el investigar sobre los tipos de funciones, las cuales algunas son un poco más complicadas de entender su funcionamiento. En mi caso, debo investigar y practicar el uso de *args y **kwargs, ya que no entendí bien como se usan de manera correcta.\n",
                "\n",
                "### 3. Sección de referencias con enlaces o libros consultados.\n",
                "\n",
                "Automate the Boring Stuff with Python de: Al Sweigart.\n",
                "Enlace: https://automatetheboringstuff.com/\n",
                "\n",
                "Python Docs.\n",
                "Enlace: https://docs.python.org/3/library/functions.html\n",
                "\n",
                "Otras fuentes de Google y YouTube.\n"
            ]
        }
    ],
    "metadata": {
        "kernelspec": {
            "display_name": "Python 3",
            "language": "python",
            "name": "python3"
        },
        "language_info": {
            "codemirror_mode": {
                "name": "ipython",
                "version": 3
            },
            "file_extension": ".py",
            "mimetype": "text/x-python",
            "name": "python",
            "nbconvert_exporter": "python",
            "pygments_lexer": "ipython3",
            "version": "3.13.1"
        }
    },
    "nbformat": 4,
    "nbformat_minor": 2
}
