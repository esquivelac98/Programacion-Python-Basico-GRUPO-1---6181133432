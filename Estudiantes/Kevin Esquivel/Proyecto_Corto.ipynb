{
 "cells": [
  {
   "cell_type": "code",
   "execution_count": null,
   "metadata": {},
   "outputs": [
    {
     "name": "stdout",
     "output_type": "stream",
     "text": [
      "{'Identificacion': '123', 'Telefono': 89076541, 'Provincia': 'Heredia', 'Canton': 'Barva', 'Enfermedad': 'gripe', 'Medicamento': 'acetaminofen'}\n",
      "{'Identificacion': '123', 'Telefono': 89076541, 'Provincia': 'Heredia', 'Canton': 'Barva', 'Enfermedad': 'migraña', 'Medicamento': 'acetaminofen'}\n",
      "{'Identificacion': '321', 'Telefono': 31321321, 'Provincia': 'Cartago', 'Canton': 'Pacayas', 'Enfermedad': 'gastritis', 'Medicamento': 'antiacido'}\n",
      "{'Identificacion': '345', 'Telefono': 45354632, 'Provincia': 'Guanacaste', 'Canton': 'Liberia', 'Enfermedad': 'dolor', 'Medicamento': 'acetaminofen'}\n",
      "{'Identificacion': '345', 'Telefono': 45354632, 'Provincia': 'Guanacaste', 'Canton': 'Liberia', 'Enfermedad': 'gripe', 'Medicamento': 'acetaminofen'}\n",
      "{'Identificacion': '456', 'Telefono': 87539856, 'Provincia': 'San Jose', 'Canton': 'Pavas', 'Enfermedad': 'tos', 'Medicamento': 'jarabe'}\n",
      "{'Identificacion': '456', 'Telefono': 87539856, 'Provincia': 'San Jose', 'Canton': 'Pavas', 'Enfermedad': 'dolor', 'Medicamento': 'acetaminofen'}\n",
      "{'Identificacion': '456', 'Telefono': 87539856, 'Provincia': 'San Jose', 'Canton': 'Pavas', 'Enfermedad': 'dolor', 'Medicamento': 'jarabe'}\n",
      "{'Identificacion': '789', 'Telefono': 45522221, 'Provincia': 'Limón', 'Canton': 'Puerto Viejo', 'Enfermedad': 'migraña', 'Medicamento': 'acetaminofen'}\n",
      "{'Identificacion': '789', 'Telefono': 45522221, 'Provincia': 'Limón', 'Canton': 'Puerto Viejo', 'Enfermedad': 'presion', 'Medicamento': 'acetaminofen'}\n"
     ]
    }
   ],
   "source": [
    "import json\n",
    "\n",
    "encabezados = ['Identificacion', 'Telefono', 'Provincia', 'Canton', 'Enfermedad', 'Medicamento'] #Se crea la lista para identificar los encabezados de los valores.\n",
    "\n",
    "with open('C:/Users/Kevin Esquivel/Desktop/Cursos Python/01. Python Básico/Semana III/Clase 05/clinica.json', 'r', encoding='utf-8') as archivo:\n",
    "    datos = json.load(archivo)\n",
    "\n",
    "datos_encabezados = [dict(zip(encabezados, fila)) for fila in datos] # Esta parte del código se utiliza para asignarle los encabezados a los datos.\n",
    "\n",
    "datos_ordenados = sorted(datos_encabezados, key=lambda x: x['Identificacion'], reverse=False) # El reverse = False se utiliza para ordenar ascendentemente.\n",
    "\n",
    "for registro in datos_ordenados:\n",
    "    print(registro)"
   ]
  }
 ],
 "metadata": {
  "kernelspec": {
   "display_name": "Python 3",
   "language": "python",
   "name": "python3"
  },
  "language_info": {
   "codemirror_mode": {
    "name": "ipython",
    "version": 3
   },
   "file_extension": ".py",
   "mimetype": "text/x-python",
   "name": "python",
   "nbconvert_exporter": "python",
   "pygments_lexer": "ipython3",
   "version": "3.13.1"
  }
 },
 "nbformat": 4,
 "nbformat_minor": 2
}
