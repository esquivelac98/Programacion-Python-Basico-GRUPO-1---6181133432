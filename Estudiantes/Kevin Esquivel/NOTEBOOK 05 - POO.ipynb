{
 "cells": [
  {
   "cell_type": "markdown",
   "metadata": {},
   "source": [
    "# 📌 Programación Orientada a Objetos (POO) en Python\n",
    "## Autor: Kevin Esquivel Acuña\n",
    "### Fecha: 2025/02/06\n",
    "\n",
    "## 1. Introducción a la POO \n",
    "- ¿Qué es la POO? \n",
    "- Características principales \n",
    "- Comparación con la programación estructurada \n",
    "\n",
    "## 2. Conceptos Claves de la POO \n",
    "- Clases y Objetos \n",
    "- Atributos y Métodos \n",
    "- Encapsulamiento \n",
    "- Herencia \n",
    "- Polimorfismo \n",
    "\n",
    "## 3. Ejemplos Prácticos de cada Concepto \n",
    "- Definir una clase simple \n",
    "- Crear y manipular objetos \n",
    "- Aplicar herencia y polimorfismo \n",
    "\n",
    "## 4. Desarrollo de un Proyecto Aplicado \n",
    "- Descripción del proyecto \n",
    "- Implementación paso a paso \n",
    "\n",
    "--- \n",
    "\n",
    "## 🟢 1. Introducción a la POO \n",
    "La **Programación Orientada a Objetos (POO)** es un paradigma de programación basado en la idea de modelar entidades del mundo real a través de **objetos**. \n",
    "\n",
    "### ✅ Características clave de la POO: \n",
    "- **Abstracción:** Modela objetos del mundo real en código. \n",
    "- **Encapsulamiento:** Protege los datos y métodos dentro de una clase. \n",
    "- **Herencia:** Permite reutilizar código mediante la relación padre-hijo. \n",
    "- **Polimorfismo:** Usa el mismo método con diferentes implementaciones. \n",
    "\n",
    "### 📌 Diferencia entre programación estructurada y POO: \n",
    "\n",
    "| Característica | Programación Estructurada | Programación Orientada a Objetos | \n",
    "|---------------------|------------------------|--------------------------------| \n",
    "| **Organización** | Basada en funciones | Basada en clases y objetos | \n",
    "| **Reutilización** | Baja | Alta | \n",
    "| **Mantenimiento** | Más complejo | Más modular y escalable |\n",
    "\n",
    "## 🟡 2. Conceptos Claves de la POO en Python\n",
    "### 📌 Clases y Objetos\n",
    "En Python, una clase es un modelo que define la estructura y comportamiento de un objeto. Un objeto es una instancia de una clase."
   ]
  },
  {
   "cell_type": "code",
   "execution_count": 12,
   "metadata": {},
   "outputs": [
    {
     "name": "stdout",
     "output_type": "stream",
     "text": [
      "Kevin 26\n",
      "\n",
      "El objeto 2625520738256 tiene el atributo nombre como: Yendry Chinchilla y de edad: 30 años.\n",
      "El objeto 2625518369552 tiene el atributo nombre como: Vanessa Acuña y de edad: 49 años.\n",
      "El objeto 2625518364112 tiene el atributo nombre como: Andrés Mena y de edad: 33 años.\n",
      "\n",
      "El objeto 2625520735232 tiene el atributo nombre como: Kevin Esquivel y de edad: 26 años.\n",
      "El objeto 2625518369872 tiene el atributo nombre como: Gerald Chaves y de edad: 28 años.\n",
      "El objeto 2625518369552 tiene el atributo nombre como: Ballardo Prado y de edad: 27 años.\n",
      "\n",
      "Hola, mi nombre es Yendry Chinchilla y tengo 30 años.\n",
      "Hola, mi nombre es Vanessa Acuña y tengo 49 años.\n",
      "Hola, mi nombre es Andrés Mena y tengo 33 años.\n"
     ]
    }
   ],
   "source": [
    "# Como crear una clase\n",
    "\n",
    "\n",
    "## Método 1\n",
    "class Persona:  # Clase es una plantilla\n",
    "    def __init__(self): # self es un parámetro (asimismo)\n",
    "        self.nombre = 'Kevin' # Se definen los valores de los atributos\n",
    "        self.edad = 26 # Se definen los valores de los atributos\n",
    "\n",
    "estudiante = Persona() # Estudiante es un objeto\n",
    "\n",
    "print(estudiante.nombre,estudiante.edad)\n",
    "print()\n",
    "\n",
    "\n",
    "## Método 2\n",
    "class Persona:\n",
    "    def __init__(self,name,age):\n",
    "        self.nombre = name\n",
    "        self.edad = age\n",
    "\n",
    "estudiante = Persona('Yendry Chinchilla', 30)\n",
    "estudiante2 = Persona('Vanessa Acuña', 49)\n",
    "profesor = Persona('Andrés Mena', 33)\n",
    "\n",
    "print(f'El objeto {id(estudiante)} tiene el atributo nombre como: {estudiante.nombre} y de edad: {estudiante.edad} años.')\n",
    "print(f'El objeto {id(estudiante2)} tiene el atributo nombre como: {estudiante2.nombre} y de edad: {estudiante2.edad} años.')\n",
    "print(f'El objeto {id(profesor)} tiene el atributo nombre como: {profesor.nombre} y de edad: {profesor.edad} años.')\n",
    "print()\n",
    "\n",
    "\n",
    "## Método 3\n",
    "class Persona:\n",
    "    def __init__(self):\n",
    "        self.nombre = input('Por favor ingrese su nombre y primer apellido:')\n",
    "        self.edad = int(input('Por favor ingrese su edad:'))\n",
    "\n",
    "estudiante = Persona()\n",
    "estudiante2 = Persona()\n",
    "profesor = Persona()\n",
    "\n",
    "print(f'El objeto {id(estudiante)} tiene el atributo nombre como: {estudiante.nombre} y de edad: {estudiante.edad} años.')\n",
    "print(f'El objeto {id(estudiante2)} tiene el atributo nombre como: {estudiante2.nombre} y de edad: {estudiante2.edad} años.')\n",
    "print(f'El objeto {id(profesor)} tiene el atributo nombre como: {profesor.nombre} y de edad: {profesor.edad} años.')\n",
    "print()\n",
    "\n",
    "\n",
    "## Método 4\n",
    "class Persona:\n",
    "    def __init__(self,name,age):\n",
    "        self.nombre = name\n",
    "        self.edad = age\n",
    "        \n",
    "    def saludar(self):\n",
    "        print(f'Hola, mi nombre es {self.nombre} y tengo {self.edad} años.')\n",
    "        \n",
    "\n",
    "estudiante = Persona('Yendry Chinchilla', 30)\n",
    "estudiante2 = Persona('Vanessa Acuña', 49)\n",
    "profesor = Persona('Andrés Mena', 33)\n",
    "\n",
    "estudiante.saludar()\n",
    "estudiante2.saludar()\n",
    "profesor.saludar()"
   ]
  },
  {
   "cell_type": "markdown",
   "metadata": {},
   "source": [
    "## 📌 Atributos y Métodos\n",
    "### Los atributos representan las propiedades de un objeto, y los métodos son las funciones que definen su comportamiento."
   ]
  },
  {
   "cell_type": "code",
   "execution_count": 24,
   "metadata": {},
   "outputs": [
    {
     "name": "stdout",
     "output_type": "stream",
     "text": [
      "¡Bienvenido al taller virtual de Kawasaki Motorcycles Costa Rica!\n",
      "\n",
      "A continuación, el informe de fallas de la motocicleta marca Kawasaki con placa 806637.\n",
      "\n",
      "\n",
      "---- REPORTE DE FALLAS----\n",
      "Problemas en el conjunto de clutch y sistema de frenos\n"
     ]
    }
   ],
   "source": [
    "## Ejemplo de consecionario\n",
    "class moto:\n",
    "    def __init__(self,marca,modelo,anio,placa):\n",
    "        self.marca = marca #input('Por favor ingrese la marca de su motocicleta:')\n",
    "        self.modelo = modelo #input('Por favor ingrese el modelo de su motocicleta:')\n",
    "        self.anio = anio #int(input('Por favor ingrese el año de su motocicleta:'))\n",
    "        self.placa = placa #input('Por favor ingrese la placa de su motocicleta:')\n",
    "        self.encendido = True   # Son estáticos, entonces no se meten en el paréntesis de arriba\n",
    "        self.fallas = []        # Son estáticos, entonces no se meten en el paréntesis de arriba\n",
    "        \n",
    "    def reporte_fallas(self):\n",
    "        self.fallas.append(input('Por favor ingrese el detalle de las fallas de su motocicleta: '))\n",
    "        \n",
    "    def reporte_estado(self):\n",
    "        print('¡Bienvenido al taller virtual de Kawasaki Motorcycles Costa Rica!')\n",
    "        print(f'\\nA continuación, el informe de fallas de la motocicleta marca {self.marca} con placa {self.placa}.')\n",
    "        print('\\n\\n---- REPORTE DE FALLAS----')\n",
    "        for elemento in self.fallas:\n",
    "            print(elemento)\n",
    "        \n",
    "mi_motocicleta = moto('Kawasaki','Z900',2022,'806637')\n",
    "mi_motocicleta_trabajo = moto('Yamaha','MT09',2021,'792929')\n",
    "\n",
    "mi_motocicleta.reporte_fallas()\n",
    "mi_motocicleta.reporte_estado()"
   ]
  },
  {
   "cell_type": "markdown",
   "metadata": {},
   "source": [
    "# 📝 Ejercicios POO en Python \n",
    "\n",
    "\n",
    "## 📌 Ejercicio 1: Calculadora de Descuento \n",
    "📍 **Objetivo:** Crear una clase que calcule el precio final de un producto aplicando un descuento. \n",
    "\n",
    "\n",
    "### 🔹 **Instrucciones:** \n",
    "1. Crear una clase llamada `Producto` con los siguientes atributos: \n",
    "- `nombre` (nombre del producto) \n",
    "- `precio` (precio original del producto) \n",
    "- `descuento` (porcentaje de descuento en decimal, por ejemplo, 0.2 para 20%) \n",
    "2. Implementar un método llamado `precio_final()` que retorne el precio con el descuento aplicado. \n",
    "3. Crear un objeto de la clase con un producto de tu elección y mostrar el precio final. \n",
    "\n",
    "\n",
    "### 🔹 **Ejemplo de uso esperado:** \n",
    "```python\n",
    "mi_producto = Producto(\"Zapatos\", 50.0, 0.15) \n",
    "print(f\"El precio final de {mi_producto.nombre} es: ${mi_producto.precio_final()}\")\n",
    "\n"
   ]
  },
  {
   "cell_type": "code",
   "execution_count": 26,
   "metadata": {},
   "outputs": [
    {
     "name": "stdout",
     "output_type": "stream",
     "text": [
      "El precio final del producto Zapatos es de: 42.50 colones.\n"
     ]
    }
   ],
   "source": [
    "class producto:\n",
    "    def __init__(self,nombre,precio,descuento):\n",
    "        self.nombre = nombre\n",
    "        self.precio = precio\n",
    "        self.descuento = descuento\n",
    "        \n",
    "    def precio_final(self):\n",
    "        return self.precio * (1 - self.descuento)\n",
    "\n",
    "mi_producto = producto(\"Zapatos\", 50.0, 0.15)\n",
    "\n",
    "print(f\"El precio final del producto {mi_producto.nombre} es de: {mi_producto.precio_final():.2f} colones.\")"
   ]
  },
  {
   "cell_type": "code",
   "execution_count": 27,
   "metadata": {},
   "outputs": [
    {
     "name": "stdout",
     "output_type": "stream",
     "text": [
      "El precio final del producto Laptop es de: 211950.00 colones.\n"
     ]
    }
   ],
   "source": [
    "class producto:\n",
    "    def __init__(self):\n",
    "        self.nombre = input(\"Ingrese el nombre del producto: \")\n",
    "        self.precio = float(input(\"Ingrese el precio del producto en colones: \"))\n",
    "        self.descuento = float(input(\"Ingrese el descuento en formato decimal (ejemplo 0.15 para 15%): \"))\n",
    "\n",
    "    def precio_final(self):\n",
    "        return self.precio * (1 - self.descuento)\n",
    "\n",
    "mi_producto = producto()\n",
    "\n",
    "print(f\"El precio final del producto {mi_producto.nombre} es de: {mi_producto.precio_final():.2f} colones.\")\n"
   ]
  },
  {
   "cell_type": "code",
   "execution_count": 28,
   "metadata": {},
   "outputs": [
    {
     "name": "stdout",
     "output_type": "stream",
     "text": [
      "El precio final del producto Zapatos es de: 10800.00 colones.\n"
     ]
    }
   ],
   "source": [
    "class producto:\n",
    "    def __init__(self):\n",
    "        self.nombre = input(\"Ingrese el nombre del producto: \")\n",
    "        self.precio = float(input(\"Ingrese el precio del producto en colones: \"))\n",
    "        \n",
    "        descuento_input = float(input(\"Ingrese el porcentaje de descuento (sin el signo %): \"))\n",
    "        self.descuento = descuento_input / 100\n",
    "\n",
    "    def precio_final(self):\n",
    "        return self.precio * (1 - self.descuento)\n",
    "\n",
    "mi_producto = producto()\n",
    "\n",
    "# Mostrar el precio final\n",
    "print(f\"El precio final del producto {mi_producto.nombre} es de: {mi_producto.precio_final():.2f} colones.\")\n"
   ]
  },
  {
   "cell_type": "markdown",
   "metadata": {},
   "source": [
    "## 📌 Ejercicio 2: Registro de Estudiantes \n",
    "📍 **Objetivo:** Crear una clase para almacenar información de estudiantes y mostrar sus datos. \n",
    "\n",
    "\n",
    "### 🔹 Instrucciones: \n",
    "\n",
    "\n",
    "1. Crear una clase llamada `Estudiante` con los siguientes atributos: \n",
    "- `nombre` \n",
    "- `edad` \n",
    "- `grado` \n",
    "\n",
    "\n",
    "2. Implementar un método llamado `mostrar_info()` que imprima la información del estudiante en un formato legible. \n",
    "\n",
    "\n",
    "3. Crear **dos instancias** de la clase `Estudiante` y llamar al método `mostrar_info()` en cada una. "
   ]
  },
  {
   "cell_type": "code",
   "execution_count": 34,
   "metadata": {},
   "outputs": [
    {
     "name": "stdout",
     "output_type": "stream",
     "text": [
      "**A continuación, la información principal del estudiante**\n",
      "\n",
      "Nombre: Kevin Esquivel\n",
      "Edad: 16 años\n",
      "Grado: Undécimo\n",
      "\n",
      "**A continuación, la información principal del estudiante**\n",
      "\n",
      "Nombre: Yendry Chinchilla\n",
      "Edad: 15 años\n",
      "Grado: Décimo\n",
      "\n"
     ]
    }
   ],
   "source": [
    "class estudiante:\n",
    "    def __init__(self,nombre,edad,grado):\n",
    "        self.nombre = nombre\n",
    "        self.edad = edad\n",
    "        self.grado = grado\n",
    "        \n",
    "    def mostrar_info(self):\n",
    "        print('**A continuación, la información principal del estudiante**\\n')\n",
    "        print(f\"Nombre: {self.nombre}\")\n",
    "        print(f\"Edad: {self.edad} años\")\n",
    "        print(f\"Grado: {self.grado}\\n\")\n",
    "    \n",
    "estudiante1 = estudiante(\"Kevin Esquivel\", 16, 'Undécimo')\n",
    "estudiante2 = estudiante(\"Yendry Chinchilla\", 15, 'Décimo')\n",
    "\n",
    "estudiante1.mostrar_info()\n",
    "estudiante2.mostrar_info()"
   ]
  },
  {
   "cell_type": "code",
   "execution_count": 36,
   "metadata": {},
   "outputs": [
    {
     "name": "stdout",
     "output_type": "stream",
     "text": [
      "**A continuación, la información principal del estudiante**\n",
      "Nombre: Kevin Esquivel\n",
      "Edad: 16 años\n",
      "Grado: Undecimo\n",
      "\n",
      "**A continuación, la información principal del estudiante**\n",
      "Nombre: Yendry Chinchilla\n",
      "Edad: 15 años\n",
      "Grado: Decimo\n",
      "\n"
     ]
    }
   ],
   "source": [
    "class estudiante:\n",
    "    def __init__(self):\n",
    "        self.nombre = input(\"Ingrese el nombre del estudiante: \")\n",
    "        self.edad = int(input(\"Ingrese la edad del estudiante: \"))\n",
    "        self.grado = input(\"Ingrese el grado del estudiante: \")\n",
    "        \n",
    "    def mostrar_info(self):\n",
    "        print('**A continuación, la información principal del estudiante**')\n",
    "        print(f\"Nombre: {self.nombre}\")\n",
    "        print(f\"Edad: {self.edad} años\")\n",
    "        print(f\"Grado: {self.grado}\\n\")\n",
    "    \n",
    "estudiante1 = estudiante()\n",
    "estudiante2 = estudiante()\n",
    "\n",
    "estudiante1.mostrar_info()\n",
    "estudiante2.mostrar_info()"
   ]
  },
  {
   "cell_type": "markdown",
   "metadata": {},
   "source": [
    "### 📌 Encapsulamiento\n",
    "El encapsulamiento oculta detalles internos de un objeto para restringir el acceso a sus atributos.\n",
    "\n",
    "\n",
    "\n",
    "🔒 __saldo es un atributo privado, solo accesible desde métodos de la misma clase."
   ]
  },
  {
   "cell_type": "code",
   "execution_count": 41,
   "metadata": {},
   "outputs": [
    {
     "name": "stdout",
     "output_type": "stream",
     "text": [
      "El saldo de Andrés en la cuenta es: $650\n"
     ]
    }
   ],
   "source": [
    "class CuentaBancaria:\n",
    "    def __init__(self, titular, saldo):\n",
    "        self.titular = titular\n",
    "        self.__saldo = saldo # Atributo privado\n",
    "\n",
    "    def mostrar_saldo(self):\n",
    "        print(f'El saldo de {self.titular} en la cuenta es: ${cuenta_ahorros.__saldo}')\n",
    "\n",
    "    def depositar(self, cantidad):\n",
    "        self.__saldo += cantidad\n",
    "\n",
    "cuenta_ahorros = CuentaBancaria('Kevin', 450)\n",
    "\n",
    "cuenta_ahorros.titular = 'Andrés' #Modificar atributo público\n",
    "cuenta_ahorros.depositar(200)\n",
    "\n",
    "cuenta_ahorros.mostrar_saldo()"
   ]
  },
  {
   "cell_type": "markdown",
   "metadata": {},
   "source": [
    "### 📌 Herencia\n",
    "La herencia permite que una clase hija herede atributos y métodos de una clase padre."
   ]
  },
  {
   "cell_type": "code",
   "execution_count": 47,
   "metadata": {},
   "outputs": [
    {
     "name": "stdout",
     "output_type": "stream",
     "text": [
      "Moe es un perrito que hace sonidos graciosos.\n"
     ]
    }
   ],
   "source": [
    "class Animal:\n",
    "    def __init__(self, nombre, especie):\n",
    "        self.nombre = nombre\n",
    "        self.especie = especie\n",
    "        \n",
    "    def hacer_sonido(self):\n",
    "        return f\"{self.nombre} es un {self.especie} que hace sonidos graciosos.\"\n",
    "\n",
    "class perro(Animal):        # Clase hija que hereda de la clase animal\n",
    "    pass\n",
    "\n",
    "moe = perro('Moe', 'perrito')\n",
    "\n",
    "print(moe.hacer_sonido())"
   ]
  },
  {
   "cell_type": "code",
   "execution_count": null,
   "metadata": {},
   "outputs": [],
   "source": [
    "class Animal:\n",
    "    def __init__(self, nombre,especie='Mamifero'):\n",
    "        self.nombre = nombre\n",
    "        self.especie = especie\n",
    "\n",
    "    def hacer_sonido(self):\n",
    "        return f\" Hace un sonido\"\n",
    "    \n",
    "class perro(Animal): # Clase hija que Hereda de la clase animal\n",
    "    \n",
    "    def hacer_sonido(self):\n",
    "        return f\"Guau guau\"\n",
    "\n",
    "pancho = perro('Pancho','Mamifero')\n",
    "\n",
    "print(pancho.hacer_sonido())"
   ]
  },
  {
   "cell_type": "markdown",
   "metadata": {},
   "source": [
    "### 📌 Polimorfismo\n",
    "El polimorfismo permite usar un mismo método con diferentes implementaciones."
   ]
  },
  {
   "cell_type": "code",
   "execution_count": null,
   "metadata": {},
   "outputs": [],
   "source": [
    "class gato(Animal):\n",
    "    def hacer_sonido(self):\n",
    "        return f\"Miau miau\"\n",
    "    \n",
    "animales = [perro('Firulais'),gato('Michi'),Animal('desconocido')]\n",
    "\n",
    "for animal in animales:\n",
    "    print(animal.nombre, \":\",animal.hacer_sonido())"
   ]
  }
 ],
 "metadata": {
  "kernelspec": {
   "display_name": "Python 3",
   "language": "python",
   "name": "python3"
  },
  "language_info": {
   "codemirror_mode": {
    "name": "ipython",
    "version": 3
   },
   "file_extension": ".py",
   "mimetype": "text/x-python",
   "name": "python",
   "nbconvert_exporter": "python",
   "pygments_lexer": "ipython3",
   "version": "3.13.1"
  }
 },
 "nbformat": 4,
 "nbformat_minor": 2
}
